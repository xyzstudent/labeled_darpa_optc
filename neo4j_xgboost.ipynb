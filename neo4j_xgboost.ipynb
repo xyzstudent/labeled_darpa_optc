{
 "cells": [
  {
   "cell_type": "code",
   "execution_count": 30,
   "id": "41af6554-cd78-4638-abf4-e55ee0dab536",
   "metadata": {},
   "outputs": [],
   "source": [
    "#where I learned the xgboost code\n",
    "#https://www.kaggle.com/code/stuarthallows/using-xgboost-with-scikit-learn\n",
    "#Get plaintext secrets\n",
    "from configparser import ConfigParser\n",
    "parser = ConfigParser()\n",
    "_ = parser.read('secrets.cfg')\n",
    "neo4j_useraccount = parser.get('my_data', 'neo4j_useraccount')\n",
    "neo4j_password = parser.get('my_data', 'neo4j_password')\n"
   ]
  },
  {
   "cell_type": "code",
   "execution_count": 31,
   "id": "42cd6656-f823-4d05-82c1-e26408072526",
   "metadata": {},
   "outputs": [],
   "source": [
    "import pandas as pd\n",
    "import configparser\n",
    "import os\n",
    "\n",
    "#sklearn modules\n",
    "from sklearn.model_selection import train_test_split\n",
    "from sklearn.metrics import accuracy_score, precision_score, recall_score, matthews_corrcoef\n",
    "from sklearn.metrics import roc_curve,RocCurveDisplay,confusion_matrix\n",
    "\n",
    "#Smote modules\n",
    "from imblearn.over_sampling import SMOTE,BorderlineSMOTE\n",
    "\n",
    "\n",
    "#import visualization libraries\n",
    "import numpy as np\n",
    "import seaborn as sns\n",
    "import matplotlib.pyplot as plt\n",
    "import graphviz\n",
    "\n",
    "\n",
    "#set settings for panda dataframes\n",
    "pd.set_option('display.width', 0)\n",
    "pd.set_option('display.max_colwidth', 0)\n",
    "pd.set_option('display.max_rows', 50)"
   ]
  },
  {
   "cell_type": "code",
   "execution_count": 32,
   "id": "31d7181c-2cf0-41cd-b28b-32f9bbad85c8",
   "metadata": {},
   "outputs": [],
   "source": [
    "from graphdatascience import GraphDataScience\n",
    "\n",
    "host = \"bolt://172.17.0.2:7687\"\n",
    "user = neo4j_useraccount\n",
    "password= neo4j_password\n",
    "\n",
    "gds = GraphDataScience(host, auth=(user, password))"
   ]
  },
  {
   "cell_type": "code",
   "execution_count": 33,
   "id": "bf67f30e-2dcd-4bfa-a18b-fe6cf6bdab21",
   "metadata": {},
   "outputs": [
    {
     "name": "stdout",
     "output_type": "stream",
     "text": [
      "CPU times: user 39.7 s, sys: 4.46 s, total: 44.1 s\n",
      "Wall time: 52.6 s\n"
     ]
    }
   ],
   "source": [
    "%%time\n",
    "#Get all the processes\n",
    "all_processes= gds.run_cypher(\"\"\"\n",
    "MATCH (p:Process)\n",
    "RETURN p.CommandLine_length as CommandLine_length,p.network_degree as Network_degree,p.direct_children as Direct_children,p.ProcessGuid as ProcessGuid,p.numbers_of_executed_commands as Numbers_of_executed_commands,p.numbers_of_files_created as Numbers_of_files_created,p.malicious as Malicious\n",
    "\"\"\") \n",
    "\n",
    "#all_processes.head()"
   ]
  },
  {
   "cell_type": "code",
   "execution_count": 34,
   "id": "1852c1e8-6d4c-41ba-8173-bafdeac4725e",
   "metadata": {},
   "outputs": [],
   "source": [
    "# find the rows with NaN values\n",
    "mask = all_processes.isna().any(axis=1)\n",
    "rows_with_nan = all_processes[mask]\n",
    "\n",
    "# print the rows with NaN values\n",
    "#print(rows_with_nan)"
   ]
  },
  {
   "cell_type": "code",
   "execution_count": 35,
   "id": "7a7c8abf-aa60-4fcd-93cd-26fd8f99b8da",
   "metadata": {},
   "outputs": [],
   "source": [
    "#Fix the empty ones with 0\n",
    "#it is only the CommandLine_length lets fill those with 0\n",
    "#and change the names of the variables to x and y\n",
    "df=all_processes.fillna(0)"
   ]
  },
  {
   "cell_type": "code",
   "execution_count": 36,
   "id": "c2ca8e29-bed8-4677-9e98-b2b4788f12d0",
   "metadata": {},
   "outputs": [],
   "source": [
    "#import libraries for running xgboost models\n",
    "import xgboost as xgb\n"
   ]
  },
  {
   "cell_type": "code",
   "execution_count": 105,
   "id": "f85f9d51-c41d-49bf-84c1-a7a1e49f5a8d",
   "metadata": {},
   "outputs": [],
   "source": [
    "#Get the variables into x and y for readability\n",
    "X=df[['CommandLine_length', 'Network_degree', 'Direct_children', 'Numbers_of_executed_commands', 'Numbers_of_files_created']]\n",
    "y=df['Malicious']"
   ]
  },
  {
   "cell_type": "code",
   "execution_count": 106,
   "id": "cad1e490-ef1e-4a8a-9a71-16c895854616",
   "metadata": {},
   "outputs": [
    {
     "name": "stdout",
     "output_type": "stream",
     "text": [
      "CPU times: user 81.3 ms, sys: 3.95 ms, total: 85.2 ms\n",
      "Wall time: 83.2 ms\n"
     ]
    }
   ],
   "source": [
    "%%time\n",
    "# split the data into training and testing sets\n",
    "X_train, X_test, y_train, y_test = train_test_split(X, y, test_size=0.3, random_state=8)"
   ]
  },
  {
   "cell_type": "code",
   "execution_count": 107,
   "id": "0636402b-4ba0-45df-8c2e-56bc515b95bc",
   "metadata": {},
   "outputs": [
    {
     "name": "stdout",
     "output_type": "stream",
     "text": [
      "CPU times: user 277 ms, sys: 3.05 ms, total: 280 ms\n",
      "Wall time: 138 ms\n"
     ]
    }
   ],
   "source": [
    "%%time\n",
    "# create the DMatrix objects for XGBoost\n",
    "dtrain = xgb.DMatrix(X_train, label=y_train)\n",
    "dtest = xgb.DMatrix(X_test, label=y_test)\n"
   ]
  },
  {
   "cell_type": "code",
   "execution_count": 108,
   "id": "42d90ed1-d889-42ad-9e51-2efebbb97732",
   "metadata": {},
   "outputs": [],
   "source": [
    "# set the parameters for XGBoost\n",
    "params = {\n",
    "    'objective': 'binary:logistic',\n",
    "    'eval_metric': 'auc',\n",
    "    'max_depth': 4,\n",
    "    'eta': 0.1\n",
    "}\n"
   ]
  },
  {
   "cell_type": "code",
   "execution_count": 109,
   "id": "072750b2-6dd8-4185-8f18-ba23e66eaec1",
   "metadata": {},
   "outputs": [
    {
     "name": "stdout",
     "output_type": "stream",
     "text": [
      "CPU times: user 38.4 s, sys: 63.6 ms, total: 38.5 s\n",
      "Wall time: 19.2 s\n"
     ]
    }
   ],
   "source": [
    "%%time\n",
    "# train the XGBoost model\n",
    "num_rounds = 100\n",
    "model = xgb.train(params, dtrain, num_rounds)\n"
   ]
  },
  {
   "cell_type": "code",
   "execution_count": 110,
   "id": "d0c92a1d-b7cf-4ea0-b9fc-7b6c146b3fd9",
   "metadata": {},
   "outputs": [
    {
     "name": "stdout",
     "output_type": "stream",
     "text": [
      "CPU times: user 533 ms, sys: 10 µs, total: 533 ms\n",
      "Wall time: 480 ms\n"
     ]
    }
   ],
   "source": [
    "%%time\n",
    "# make predictions on the test set\n",
    "y_pred = model.predict(dtest)\n",
    "#convert to a binary benign or malicious prediction\n",
    "y_pred = [1 if pred > 0.5 else 0 for pred in y_pred]\n"
   ]
  },
  {
   "cell_type": "code",
   "execution_count": 111,
   "id": "c61d8a5f-fccb-4c4f-860b-f3061f42db4f",
   "metadata": {},
   "outputs": [
    {
     "name": "stdout",
     "output_type": "stream",
     "text": [
      "Accuracy:  0.9999970554112707\n",
      "Precision:  1.0\n",
      "Recall:  0.8\n",
      "f1score:  0.888888888888889\n",
      "mccscore: 0.8944258741233229\n"
     ]
    }
   ],
   "source": [
    "# evaluate the performance of the model\n",
    "accuracy = accuracy_score(y_test, y_pred)\n",
    "precision = precision_score(y_test, y_pred)\n",
    "recall = recall_score(y_test, y_pred)\n",
    "f1score = 2*(precision * recall)/(precision + recall)\n",
    "mcc = matthews_corrcoef(y_test, y_pred)\n",
    "\n",
    "print(\"Accuracy: \", accuracy)\n",
    "print(\"Precision: \", precision)\n",
    "print(\"Recall: \", recall)\n",
    "print(\"f1score: \", f1score)\n",
    "print(\"mccscore:\", mcc)"
   ]
  },
  {
   "cell_type": "code",
   "execution_count": 133,
   "id": "31cd60e2-e9bc-4f9d-9733-b45537748e89",
   "metadata": {},
   "outputs": [],
   "source": [
    "#hidden to be able to export to  pdf\n",
    "#xgb.plot_tree(model, num_trees=model.best_iteration)"
   ]
  },
  {
   "cell_type": "code",
   "execution_count": 134,
   "id": "c1e4b103-51b6-4db6-adb8-304ed72bebae",
   "metadata": {},
   "outputs": [],
   "source": [
    "#hidden to be able to export to  pdf\n",
    "#xgb.to_graphviz(model, num_trees=model.best_iteration)"
   ]
  },
  {
   "cell_type": "code",
   "execution_count": 136,
   "id": "22f5a429-fa47-4055-8a3a-678160990c65",
   "metadata": {},
   "outputs": [
    {
     "data": {
      "text/plain": [
       "<AxesSubplot: title={'center': 'Feature importance'}, xlabel='F score', ylabel='Features'>"
      ]
     },
     "execution_count": 136,
     "metadata": {},
     "output_type": "execute_result"
    },
    {
     "data": {
      "image/png": "[encoded data removed]",
      "text/plain": [
       "<Figure size 640x480 with 1 Axes>"
      ]
     },
     "metadata": {},
     "output_type": "display_data"
    }
   ],
   "source": [
    "#hidden to be able to export to  pdf\n",
    "xgb.plot_importance(model)"
   ]
  },
  {
   "cell_type": "code",
   "execution_count": null,
   "id": "9f60970b-f74b-4b7e-86fc-9b491e0a82eb",
   "metadata": {},
   "outputs": [],
   "source": []
  },
  {
   "cell_type": "code",
   "execution_count": 124,
   "id": "0f85581a-68cd-4c96-a486-a6c5ac17de2e",
   "metadata": {},
   "outputs": [],
   "source": [
    "#BorderlineSMOTE\n",
    "#since we have very few malicious events\n",
    "smote_border = BorderlineSMOTE(random_state = 8,k_neighbors=2)\n",
    "X_train_smote, y_train_smote = smote_border.fit_resample(X_train, y_train)"
   ]
  },
  {
   "cell_type": "code",
   "execution_count": 125,
   "id": "373f725c-f27b-4687-b9b0-eaeda6e8c060",
   "metadata": {},
   "outputs": [],
   "source": [
    "# create the DMatrix objects for XGBoost\n",
    "dtrain = xgb.DMatrix(X_train_smote, label= y_train_smote)\n",
    "dtest = xgb.DMatrix(X_test, label=y_test)\n"
   ]
  },
  {
   "cell_type": "code",
   "execution_count": 126,
   "id": "4bdfd20d-c048-4d9b-8612-a727391e81af",
   "metadata": {},
   "outputs": [],
   "source": [
    "# set the parameters for XGBoost\n",
    "params = {\n",
    "    'objective': 'binary:logistic',\n",
    "    'eval_metric': 'auc',\n",
    "    'max_depth': 4,\n",
    "    'eta': 0.1\n",
    "}\n"
   ]
  },
  {
   "cell_type": "code",
   "execution_count": 127,
   "id": "4b2f6619-9ef1-4cde-9714-af43d24cdcb0",
   "metadata": {},
   "outputs": [
    {
     "name": "stdout",
     "output_type": "stream",
     "text": [
      "CPU times: user 1min 32s, sys: 83.7 ms, total: 1min 32s\n",
      "Wall time: 35.1 s\n"
     ]
    }
   ],
   "source": [
    "%%time\n",
    "# train the XGBoost model\n",
    "num_rounds = 100\n",
    "model = xgb.train(params, dtrain, num_rounds)\n"
   ]
  },
  {
   "cell_type": "code",
   "execution_count": 128,
   "id": "53e72b43-b38d-433c-9e29-1af82fdd4eb1",
   "metadata": {},
   "outputs": [
    {
     "name": "stdout",
     "output_type": "stream",
     "text": [
      "CPU times: user 692 ms, sys: 988 µs, total: 693 ms\n",
      "Wall time: 591 ms\n"
     ]
    }
   ],
   "source": [
    "%%time\n",
    "# make predictions on the test set\n",
    "y_pred = model.predict(dtest)\n",
    "y_pred = [1 if pred > 0.5 else 0 for pred in y_pred]\n"
   ]
  },
  {
   "cell_type": "code",
   "execution_count": 130,
   "id": "aac1cc28-43a4-4efc-b611-a1cf9411b62b",
   "metadata": {},
   "outputs": [
    {
     "name": "stdout",
     "output_type": "stream",
     "text": [
      "Accuracy:  0.9999970554112707\n",
      "Precision:  1.0\n",
      "Recall:  0.8\n",
      "f1score:  0.888888888888889\n",
      "mccscore: 0.8944258741233229\n"
     ]
    }
   ],
   "source": [
    "# evaluate the performance of the model\n",
    "accuracy = accuracy_score(y_test, y_pred)\n",
    "precision = precision_score(y_test, y_pred)\n",
    "recall = recall_score(y_test, y_pred)\n",
    "f1score = 2*(precision * recall)/(precision + recall)\n",
    "mcc = matthews_corrcoef(y_test, y_pred)\n",
    "\n",
    "print(\"Accuracy: \", accuracy)\n",
    "print(\"Precision: \", precision)\n",
    "print(\"Recall: \", recall)\n",
    "print(\"f1score: \", f1score)\n",
    "print(\"mccscore:\", mcc)"
   ]
  },
  {
   "cell_type": "code",
   "execution_count": null,
   "id": "4750cfcd-7014-41e4-8c7b-e01a1eb0cb85",
   "metadata": {},
   "outputs": [],
   "source": []
  }
 ],
 "metadata": {
  "kernelspec": {
   "display_name": "Python 3 (ipykernel)",
   "language": "python",
   "name": "python3"
  },
  "language_info": {
   "codemirror_mode": {
    "name": "ipython",
    "version": 3
   },
   "file_extension": ".py",
   "mimetype": "text/x-python",
   "name": "python",
   "nbconvert_exporter": "python",
   "pygments_lexer": "ipython3",
   "version": "3.10.6"
  }
 },
 "nbformat": 4,
 "nbformat_minor": 5
}
