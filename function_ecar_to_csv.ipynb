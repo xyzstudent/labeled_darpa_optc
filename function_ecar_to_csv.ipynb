{
 "cells": [
  {
   "cell_type": "code",
   "execution_count": 1,
   "id": "48259da7-0b4d-4ebd-8b35-fc8bf689a43b",
   "metadata": {},
   "outputs": [],
   "source": [
    "#Import the functions, find all the json files, do the parsing"
   ]
  },
  {
   "cell_type": "code",
   "execution_count": 2,
   "id": "724770ba-f908-4cbe-8c67-089db6740fe3",
   "metadata": {},
   "outputs": [],
   "source": [
    "#subprocess module to be able to run shell commands\n",
    "import subprocess\n",
    "\n",
    "\n",
    "def parse_process_json(filename):\n",
    "    \n",
    "    #original filename\n",
    "    old_filename = \"idiot.json\"\n",
    "    #actual commandline\n",
    "    text1 = \"jq '[ . | select(.object==\\\"PROCESS\\\") ]' idiot.json  > dummy_process.json\"\n",
    "    #replace the idiotplaceholder for actual filename\n",
    "    step1 = text1.replace(old_filename, filename)\n",
    "    #execute process\n",
    "    subprocess.run(step1, shell=True)\n",
    "    \n",
    "    #fjern de tomme hakene\n",
    "    step2='''sed -i '/^\\[\\]/d' dummy_process.json''' \n",
    "    #execute process\n",
    "    subprocess.run(step2, shell=True)\n",
    "    \n",
    "    #change ending of filename\n",
    "    fancyending = filename.replace(\".json\", \"_process.csv\")\n",
    "    \n",
    "    step3='''jq  -r '[.[0].action, .[0].actorID, .[0].hostname, .[0].id, .[0].object, .[0].objectID, .[0].pid, .[0].ppid, .[0].principal, .[0].properties.acuity_level, .[0].properties.command_line, .[0].properties.image_path, .[0].properties.parent_image_path, .[0].properties.sid, .[0].properties.user, .[0].tid, .[0].timestamp] | @csv' dummy_process.json > '''+fancyending\n",
    "    #execute process\n",
    "    subprocess.run(step3, shell=True)\n",
    "    \n",
    "    return fancyending\n",
    "\n",
    "\n",
    "\n",
    "\n"
   ]
  },
  {
   "cell_type": "code",
   "execution_count": 3,
   "id": "753e43a1-57bd-464a-95cd-09f8dc235e1e",
   "metadata": {},
   "outputs": [],
   "source": [
    "def parse_flow_json(filename):\n",
    "    #original filename\n",
    "    old_filename = \"idiot.json\"\n",
    "    text1 = \"jq '[ . | select(.object==\\\"FLOW\\\") ]' idiot.json  > dummy_flow.json\"\n",
    "    step1 = text1.replace(old_filename, filename)\n",
    "    subprocess.run(step1, shell=True)\n",
    "    #fjern de tomme hakene\n",
    "    step2='''sed -i '/^\\[\\]/d' dummy_flow.json''' \n",
    "    subprocess.run(step2, shell=True)\n",
    "    \n",
    "    #change ending of filename\n",
    "    fancyending = filename.replace(\".json\", \"_flow.csv\")\n",
    "    \n",
    "    step3='''jq -r '[.[0].action, .[0].actorID, .[0].hostname, .[0].id, .[0].object, .[0].objectID, .[0].pid, .[0].ppid, .[0].principal, .[0].properties.acuity_level, .[0].properties.dest_ip, .[0].properties.dest_port, .[0].properties.direction, .[0].properties.image_path, .[0].properties.l4protocol, .[0].properties.size, .[0].properties.src_ip, .[0].properties.src_port, .[0].tid, .[0].timestamp] | @csv' dummy_flow.json > '''+fancyending\n",
    "   \n",
    "    \n",
    "    subprocess.run(step3, shell=True)\n",
    "    return fancyending\n"
   ]
  },
  {
   "cell_type": "code",
   "execution_count": 4,
   "id": "8fc9a1b1-e1de-40d1-9c2a-16f123f5da6e",
   "metadata": {},
   "outputs": [],
   "source": [
    "import subprocess\n",
    "\n",
    "def parse_file_json(filename):\n",
    "    #original filename\n",
    "    old_filename = \"idiot.json\"\n",
    "    text1 = \"jq '[ . | select(.object==\\\"FILE\\\") ]' idiot.json  > dummy_file.json\"\n",
    "    step1 = text1.replace(old_filename, filename)\n",
    "    subprocess.run(step1, shell=True)\n",
    "    #fjern de tomme hakene\n",
    "    step2='''sed -i '/^\\[\\]/d' dummy_file.json''' \n",
    "    subprocess.run(step2, shell=True)\n",
    "    \n",
    "    #change ending of filename\n",
    "    fancyending = filename.replace(\".json\", \"_file.csv\")\n",
    "    \n",
    "    step3='''jq -r '[.[0].action, .[0].actorID, .[0].hostname, .[0].id, .[0].object, .[0].objectID, .[0].pid, .[0].ppid, .[0].principal, .[0].properties.acuity_level, .[0].properties.file_path, .[0].properties.image_path, .[0].properties.info_class, .[0].properties.image_path, .[0].properties.size, .[0].tid, .[0].timestamp] | @csv' dummy_file.json > '''+fancyending\n",
    "   \n",
    "    \n",
    "    subprocess.run(step3, shell=True)\n",
    "    return fancyending\n"
   ]
  },
  {
   "cell_type": "code",
   "execution_count": 5,
   "id": "9f3a73a7-9892-4e25-abdf-417cfcf95e04",
   "metadata": {},
   "outputs": [],
   "source": [
    "#subprocess module to be able to run shell commands\n",
    "import subprocess\n",
    "\n",
    "\n",
    "def parse_shell_json(filename):\n",
    "    \n",
    "    #original filename\n",
    "    old_filename = \"idiot.json\"\n",
    "    #actual commandline\n",
    "    text1 = \"jq '[ . | select(.object==\\\"SHELL\\\") ]' idiot.json  > dummy_shell.json\"\n",
    "    #replace the idiotplaceholder for actual filename\n",
    "    step1 = text1.replace(old_filename, filename)\n",
    "    #execute process\n",
    "    subprocess.run(step1, shell=True)\n",
    "    \n",
    "    #fjern de tomme hakene\n",
    "    step2='''sed -i '/^\\[\\]/d' dummy_shell.json''' \n",
    "    #execute process\n",
    "    subprocess.run(step2, shell=True)\n",
    "    \n",
    "    #change ending of filename\n",
    "    fancyending = filename.replace(\".json\", \"_shell.csv\")\n",
    "    \n",
    "    step3='''jq  -r '[.[0].action, .[0].actorID, .[0].hostname, .[0].id, .[0].object, .[0].objectID, .[0].pid, .[0].ppid, .[0].principal, .[0].properties.acuity_level, .[0].properties.context_info, .[0].properties.image_path, .[0].properties.payload, .[0].properties.sid, .[0].properties.user, .[0].tid, .[0].timestamp] | @csv' dummy_shell.json > '''+fancyending\n",
    "    #execute process\n",
    "    subprocess.run(step3, shell=True)\n",
    "    \n",
    "    return fancyending\n"
   ]
  },
  {
   "cell_type": "code",
   "execution_count": 6,
   "id": "844ea441-c79f-42f4-8be5-aa59868fc63f",
   "metadata": {},
   "outputs": [
    {
     "name": "stdout",
     "output_type": "stream",
     "text": [
      "/home/jovyan/work/20-23\n",
      "CPU times: user 109 µs, sys: 0 ns, total: 109 µs\n",
      "Wall time: 131 µs\n"
     ]
    }
   ],
   "source": [
    "%%time\n",
    "#Get the current folder so that we only use the file in this folder\n",
    "import os\n",
    "\n",
    "current_folder = os.getcwd()\n",
    "print(current_folder)"
   ]
  },
  {
   "cell_type": "code",
   "execution_count": 7,
   "id": "a32760a8-0a10-4db6-b34c-856b2e82bd46",
   "metadata": {},
   "outputs": [
    {
     "name": "stdout",
     "output_type": "stream",
     "text": [
      "['AIA-501-525.ecar-last.json']\n",
      "CPU times: user 0 ns, sys: 643 µs, total: 643 µs\n",
      "Wall time: 366 µs\n"
     ]
    }
   ],
   "source": [
    "%%time\n",
    "import os\n",
    "#Gets all json files and puts them in a variable\n",
    "def get_json_files(directory):\n",
    "    json_files = []\n",
    "    for filename in os.listdir(directory):\n",
    "        if filename.endswith('.json'):\n",
    "             json_files.append(filename)\n",
    "    return json_files\n",
    "\n",
    "json_files_result=get_json_files(current_folder)\n",
    "print(json_files_result)"
   ]
  },
  {
   "cell_type": "code",
   "execution_count": 8,
   "id": "4930e029-9838-430d-be68-18d5b8da7ea3",
   "metadata": {},
   "outputs": [
    {
     "name": "stdout",
     "output_type": "stream",
     "text": [
      "AIA-501-525.ecar-last.json\n",
      "create process files finished\n",
      "create shell files finished\n",
      "create file files finished\n",
      "create flow files finished\n",
      "CPU times: user 45.7 ms, sys: 23.2 ms, total: 68.9 ms\n",
      "Wall time: 31min 17s\n"
     ]
    }
   ],
   "source": [
    "%%time\n",
    "#prepare csv files\n",
    "import subprocess\n",
    "\n",
    "for filename in json_files_result:\n",
    "    print(filename)\n",
    "    parse_process_json(filename)\n",
    "    print(\"create process files finished\")\n",
    "    parse_shell_json(filename)\n",
    "    print(\"create shell files finished\")\n",
    "    parse_file_json(filename)\n",
    "    print(\"create file files finished\")\n",
    "    parse_flow_json(filename)\n",
    "    print(\"create flow files finished\")\n",
    "    \n",
    "    #compress the file so that you can do the next one as well\n",
    "    compressing_files=\"gzip \"+filename\n",
    "    subprocess.run(compressing_files, shell=True)\n",
    "    \n",
    "    \n",
    "    "
   ]
  },
  {
   "cell_type": "code",
   "execution_count": 9,
   "id": "272a7cf1-73ec-4a84-a8ce-3f6aa8d7b643",
   "metadata": {},
   "outputs": [
    {
     "name": "stdout",
     "output_type": "stream",
     "text": [
      "['dummy_shell.json', 'dummy_flow.json', 'dummy_process.json', 'dummy_file.json']\n",
      "CPU times: user 64 µs, sys: 1.05 ms, total: 1.12 ms\n",
      "Wall time: 690 µs\n"
     ]
    }
   ],
   "source": [
    "%%time\n",
    "import os\n",
    "#Gets all temp json files and puts them in a variable\n",
    "def get_json_temp_files(directory):\n",
    "    json_temp_files = []\n",
    "    for filename in os.listdir(directory):\n",
    "        if filename.startswith('dummy_'):\n",
    "             json_temp_files.append(filename)\n",
    "    return json_temp_files\n",
    "\n",
    "json_temp_files_result=get_json_temp_files(current_folder)\n",
    "print(json_temp_files_result)"
   ]
  },
  {
   "cell_type": "code",
   "execution_count": 10,
   "id": "3e55d3f5-2a51-4e6d-a3e9-9224c996c0dd",
   "metadata": {},
   "outputs": [
    {
     "name": "stdout",
     "output_type": "stream",
     "text": [
      "CPU times: user 1.13 ms, sys: 1.06 ms, total: 2.19 ms\n",
      "Wall time: 739 ms\n"
     ]
    }
   ],
   "source": [
    "%%time\n",
    "#delete the temp json files\n",
    "import subprocess\n",
    "\n",
    "for filename in json_temp_files_result:\n",
    "    deleting_files=\"rm -f \"+filename\n",
    "    subprocess.run(deleting_files, shell=True)"
   ]
  },
  {
   "cell_type": "code",
   "execution_count": 11,
   "id": "3ddffac0-cce5-4fb9-8c1d-eac3ecaa0d9a",
   "metadata": {},
   "outputs": [
    {
     "name": "stdout",
     "output_type": "stream",
     "text": [
      "CPU times: user 5 µs, sys: 0 ns, total: 5 µs\n",
      "Wall time: 6.91 µs\n"
     ]
    }
   ],
   "source": [
    "%%time\n",
    "#exract the next json file\n",
    "import subprocess\n",
    "\n",
    "\n",
    "#extract_file=\"gzip -d AIA-501-525.ecar-last.json.gz\"\n",
    "#subprocess.run(extract_file, shell=True)"
   ]
  },
  {
   "cell_type": "code",
   "execution_count": null,
   "id": "ada98b1d-4d6e-4170-bfe0-e72c3e9077ad",
   "metadata": {},
   "outputs": [],
   "source": []
  }
 ],
 "metadata": {
  "kernelspec": {
   "display_name": "Python 3 (ipykernel)",
   "language": "python",
   "name": "python3"
  },
  "language_info": {
   "codemirror_mode": {
    "name": "ipython",
    "version": 3
   },
   "file_extension": ".py",
   "mimetype": "text/x-python",
   "name": "python",
   "nbconvert_exporter": "python",
   "pygments_lexer": "ipython3",
   "version": "3.10.6"
  }
 },
 "nbformat": 4,
 "nbformat_minor": 5
}
