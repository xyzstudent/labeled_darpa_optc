{
 "cells": [
  {
   "cell_type": "code",
   "execution_count": 1,
   "id": "28a60980-0bd7-4df2-84b5-7b31d24ec6a4",
   "metadata": {},
   "outputs": [],
   "source": [
    "#Get plaintext secrets\n",
    "\n",
    "from configparser import ConfigParser\n",
    "parser = ConfigParser()\n",
    "_ = parser.read('secrets.cfg')\n",
    "neo4j_useraccount = parser.get('my_data', 'neo4j_useraccount')\n",
    "neo4j_password = parser.get('my_data', 'neo4j_password')\n"
   ]
  },
  {
   "cell_type": "code",
   "execution_count": 2,
   "id": "9a78a728-e6c8-4bb7-9e38-47eee369565b",
   "metadata": {},
   "outputs": [],
   "source": [
    "import pandas as pd\n",
    "import configparser\n",
    "import os\n",
    "pd.set_option('display.width', 0)\n",
    "pd.set_option('display.max_colwidth', 0)\n",
    "pd.set_option('display.max_rows', 50)"
   ]
  },
  {
   "cell_type": "code",
   "execution_count": 3,
   "id": "a08ecf62-e847-4163-b68e-edc1916ce026",
   "metadata": {},
   "outputs": [],
   "source": [
    "from graphdatascience import GraphDataScience\n",
    "\n",
    "host = \"bolt://172.17.0.2:7687\"\n",
    "user = neo4j_useraccount\n",
    "password= neo4j_password\n",
    "\n",
    "gds = GraphDataScience(host, auth=(user, password))"
   ]
  },
  {
   "cell_type": "code",
   "execution_count": 4,
   "id": "2a6be425-2dd1-4295-9027-9e64e016ab5b",
   "metadata": {},
   "outputs": [
    {
     "name": "stdout",
     "output_type": "stream",
     "text": [
      "CPU times: user 3.36 ms, sys: 110 µs, total: 3.47 ms\n",
      "Wall time: 1.48 s\n"
     ]
    },
    {
     "data": {
      "text/html": [
       "<div>\n",
       "<style scoped>\n",
       "    .dataframe tbody tr th:only-of-type {\n",
       "        vertical-align: middle;\n",
       "    }\n",
       "\n",
       "    .dataframe tbody tr th {\n",
       "        vertical-align: top;\n",
       "    }\n",
       "\n",
       "    .dataframe thead th {\n",
       "        text-align: right;\n",
       "    }\n",
       "</style>\n",
       "<table border=\"1\" class=\"dataframe\">\n",
       "  <thead>\n",
       "    <tr style=\"text-align: right;\">\n",
       "      <th></th>\n",
       "    </tr>\n",
       "  </thead>\n",
       "  <tbody>\n",
       "  </tbody>\n",
       "</table>\n",
       "</div>"
      ],
      "text/plain": [
       "Empty DataFrame\n",
       "Columns: []\n",
       "Index: []"
      ]
     },
     "execution_count": 4,
     "metadata": {},
     "output_type": "execute_result"
    }
   ],
   "source": [
    "%%time\n",
    "#Declare all processes as innocent until proven guilty\n",
    "\n",
    "gds.run_cypher(\"\"\"\n",
    "MATCH (p:Process)\n",
    "SET p.malicious = 0\n",
    "\"\"\") \n"
   ]
  },
  {
   "cell_type": "code",
   "execution_count": null,
   "id": "7af08edb-9ed8-4772-ba25-90a991ccee5a",
   "metadata": {},
   "outputs": [],
   "source": []
  }
 ],
 "metadata": {
  "kernelspec": {
   "display_name": "Python 3 (ipykernel)",
   "language": "python",
   "name": "python3"
  },
  "language_info": {
   "codemirror_mode": {
    "name": "ipython",
    "version": 3
   },
   "file_extension": ".py",
   "mimetype": "text/x-python",
   "name": "python",
   "nbconvert_exporter": "python",
   "pygments_lexer": "ipython3",
   "version": "3.10.6"
  }
 },
 "nbformat": 4,
 "nbformat_minor": 5
}
