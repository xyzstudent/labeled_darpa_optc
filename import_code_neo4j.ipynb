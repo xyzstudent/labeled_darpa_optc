{
 "cells": [
  {
   "cell_type": "markdown",
   "id": "266ad357-402b-405f-9171-20392955c300",
   "metadata": {},
   "source": [
    "**Load secrets and connect to database**"
   ]
  },
  {
   "cell_type": "code",
   "execution_count": 1,
   "id": "1c2f769c-677f-4a3a-a743-ad3c0024e915",
   "metadata": {},
   "outputs": [],
   "source": [
    "#Get plaintext secrets\n",
    "\n",
    "from configparser import ConfigParser\n",
    "parser = ConfigParser()\n",
    "_ = parser.read('secrets.cfg')\n",
    "neo4j_useraccount = parser.get('my_data', 'neo4j_useraccount')\n",
    "neo4j_password = parser.get('my_data', 'neo4j_password')\n"
   ]
  },
  {
   "cell_type": "code",
   "execution_count": 2,
   "id": "773fd119-7ef0-43f2-804c-e908490e58eb",
   "metadata": {},
   "outputs": [],
   "source": [
    "from graphdatascience import GraphDataScience\n",
    "\n",
    "host = \"bolt://172.17.0.3:7687\"\n",
    "user = neo4j_useraccount\n",
    "password= neo4j_password\n",
    "\n",
    "gds = GraphDataScience(host, auth=(user, password))"
   ]
  },
  {
   "cell_type": "code",
   "execution_count": 3,
   "id": "32b97848-35d4-4d24-94c6-2a5c58917115",
   "metadata": {},
   "outputs": [
    {
     "name": "stdout",
     "output_type": "stream",
     "text": [
      "CPU times: user 1.83 ms, sys: 1.29 ms, total: 3.12 ms\n",
      "Wall time: 73.1 ms\n"
     ]
    }
   ],
   "source": [
    "%%time\n",
    "#Create constraint for process node, massivly speeds up import\n",
    "unique_originalFileName = gds.run_cypher(\"\"\"\n",
    "CREATE CONSTRAINT Process FOR (process:Process) REQUIRE process.ProcessGuid IS UNIQUE\n",
    "\"\"\")"
   ]
  },
  {
   "cell_type": "markdown",
   "id": "2237f895-736d-4f7c-9fde-90ba21e50744",
   "metadata": {},
   "source": [
    "**Get list of files to be imported**"
   ]
  },
  {
   "cell_type": "code",
   "execution_count": 4,
   "id": "10ac84ee-3602-4ab1-bb3e-7f59e55322c9",
   "metadata": {},
   "outputs": [
    {
     "name": "stdout",
     "output_type": "stream",
     "text": [
      "['AIA-201-225.ecar-2019-12-07T22-06-33.589_process_nodes.csv', 'AIA-201-225.ecar-2019-12-07T19-16-05.788_process_nodes.csv', 'AIA-201-225.ecar-2019-12-08T01-57-30.012_process_nodes.csv', 'AIA-201-225.ecar-2019-12-08T05-46-21.658_process_nodes.csv', 'AIA-201-225.ecar-last_process_nodes.csv', 'AIA-501-525.ecar-2019-11-15T03-10-00.546_process_nodes.csv', 'AIA-501-525.ecar-2019-11-15T05-59-37.208_process_nodes.csv', 'AIA-501-525.ecar-2019-11-15T09-43-35.856_process_nodes.csv', 'AIA-501-525.ecar-2019-11-15T13-29-59.064_process_nodes.csv', 'AIA-501-525.ecar-last_process_nodes.csv']\n"
     ]
    }
   ],
   "source": [
    "import os\n",
    "#Gets all process node files and puts them in a variable\n",
    "def get_process_node_files(directory):\n",
    "    process_node_files = []\n",
    "    for filename in os.listdir(directory):\n",
    "        if filename.endswith('_process_nodes.csv'):\n",
    "            process_node_files.append(filename)\n",
    "    return process_node_files\n",
    "\n",
    "process_node_result=get_process_node_files(\"/home/jovyan/work/neo4j/import/20-23/\")\n",
    "print(process_node_result)"
   ]
  },
  {
   "cell_type": "code",
   "execution_count": 5,
   "id": "6cdfe261-4f57-41e2-b9c5-870b213bfabb",
   "metadata": {},
   "outputs": [
    {
     "name": "stdout",
     "output_type": "stream",
     "text": [
      "['AIA-201-225.ecar-2019-12-07T22-06-33.589_process_relations.csv', 'AIA-201-225.ecar-2019-12-07T19-16-05.788_process_relations.csv', 'AIA-201-225.ecar-2019-12-08T01-57-30.012_process_relations.csv', 'AIA-201-225.ecar-2019-12-08T05-46-21.658_process_relations.csv', 'AIA-201-225.ecar-last_process_relations.csv', 'AIA-501-525.ecar-2019-11-15T03-10-00.546_process_relations.csv', 'AIA-501-525.ecar-2019-11-15T05-59-37.208_process_relations.csv', 'AIA-501-525.ecar-2019-11-15T09-43-35.856_process_relations.csv', 'AIA-501-525.ecar-2019-11-15T13-29-59.064_process_relations.csv', 'AIA-501-525.ecar-last_process_relations.csv']\n"
     ]
    }
   ],
   "source": [
    "import os\n",
    "#Gets all process relation files and puts them in a variable\n",
    "def get_process_relation_files(directory):\n",
    "    process_relation_files = []\n",
    "    for filename in os.listdir(directory):\n",
    "        if filename.endswith('_process_relations.csv'):\n",
    "            process_relation_files.append(filename)\n",
    "    return process_relation_files\n",
    "\n",
    "process_relation_result=get_process_relation_files(\"/home/jovyan/work/neo4j/import/20-23/\")\n",
    "print(process_relation_result)"
   ]
  },
  {
   "cell_type": "code",
   "execution_count": 6,
   "id": "65346cd4-9fa3-47cf-9a4d-92cdc46fedfd",
   "metadata": {},
   "outputs": [
    {
     "name": "stdout",
     "output_type": "stream",
     "text": [
      "['AIA-201-225.ecar-2019-12-07T22-06-33.589_file_nodes.csv', 'AIA-201-225.ecar-2019-12-07T19-16-05.788_file_nodes.csv', 'AIA-201-225.ecar-2019-12-08T01-57-30.012_file_nodes.csv', 'AIA-201-225.ecar-2019-12-08T05-46-21.658_file_nodes.csv', 'AIA-201-225.ecar-last_file_nodes.csv', 'AIA-501-525.ecar-2019-11-15T03-10-00.546_file_nodes.csv', 'AIA-501-525.ecar-2019-11-15T05-59-37.208_file_nodes.csv', 'AIA-501-525.ecar-2019-11-15T09-43-35.856_file_nodes.csv', 'AIA-501-525.ecar-2019-11-15T13-29-59.064_file_nodes.csv', 'AIA-501-525.ecar-last_file_nodes.csv']\n"
     ]
    }
   ],
   "source": [
    "import os\n",
    "#Gets all process node files and puts them in a variable\n",
    "def get_file_node_files(directory):\n",
    "    file_nodes_files = []\n",
    "    for filename in os.listdir(directory):\n",
    "        if filename.endswith('_file_nodes.csv'):\n",
    "            file_nodes_files.append(filename)\n",
    "    return file_nodes_files\n",
    "\n",
    "file_node_result=get_file_node_files(\"/home/jovyan/work/neo4j/import/20-23/\")\n",
    "print(file_node_result)"
   ]
  },
  {
   "cell_type": "code",
   "execution_count": 7,
   "id": "bd46d0ad-1610-42e3-92c2-5e95459b9869",
   "metadata": {},
   "outputs": [
    {
     "name": "stdout",
     "output_type": "stream",
     "text": [
      "['AIA-201-225.ecar-2019-12-07T22-06-33.589_file_relations.csv', 'AIA-201-225.ecar-2019-12-07T19-16-05.788_file_relations.csv', 'AIA-201-225.ecar-2019-12-08T01-57-30.012_file_relations.csv', 'AIA-201-225.ecar-2019-12-08T05-46-21.658_file_relations.csv', 'AIA-201-225.ecar-last_file_relations.csv', 'AIA-501-525.ecar-2019-11-15T03-10-00.546_file_relations.csv', 'AIA-501-525.ecar-2019-11-15T05-59-37.208_file_relations.csv', 'AIA-501-525.ecar-2019-11-15T09-43-35.856_file_relations.csv', 'AIA-501-525.ecar-2019-11-15T13-29-59.064_file_relations.csv', 'AIA-501-525.ecar-last_file_relations.csv']\n"
     ]
    }
   ],
   "source": [
    "import os\n",
    "#Gets all process node files and puts them in a variable\n",
    "def get_file_relations_files(directory):\n",
    "    file_relations_files = []\n",
    "    for filename in os.listdir(directory):\n",
    "        if filename.endswith('_file_relations.csv'):\n",
    "            file_relations_files.append(filename)\n",
    "    return file_relations_files\n",
    "\n",
    "file_relations_result=get_file_relations_files(\"/home/jovyan/work/neo4j/import/20-23/\")\n",
    "print(file_relations_result)"
   ]
  },
  {
   "cell_type": "code",
   "execution_count": 10,
   "id": "a05d6b44-b1f4-4c56-9485-f79474d227bf",
   "metadata": {},
   "outputs": [
    {
     "name": "stdout",
     "output_type": "stream",
     "text": [
      "['AIA-201-225.ecar-2019-12-07T22-06-33.589_network_node.csv', 'AIA-201-225.ecar-2019-12-07T19-16-05.788_network_node.csv', 'AIA-201-225.ecar-2019-12-08T01-57-30.012_network_node.csv', 'AIA-201-225.ecar-2019-12-08T05-46-21.658_network_node.csv', 'AIA-201-225.ecar-last_network_node.csv', 'AIA-501-525.ecar-2019-11-15T03-10-00.546_network_node.csv', 'AIA-501-525.ecar-2019-11-15T05-59-37.208_network_node.csv', 'AIA-501-525.ecar-2019-11-15T09-43-35.856_network_node.csv', 'AIA-501-525.ecar-2019-11-15T13-29-59.064_network_node.csv', 'AIA-501-525.ecar-last_network_node.csv']\n"
     ]
    }
   ],
   "source": [
    "import os\n",
    "#Gets all flow node files and puts them in a variable\n",
    "def get_network_node_files(directory):\n",
    "    network_node_files = []\n",
    "    for filename in os.listdir(directory):\n",
    "        if filename.endswith('_network_node.csv'):\n",
    "             network_node_files.append(filename)\n",
    "    return network_node_files\n",
    "\n",
    "network_node_result=get_network_node_files(\"/home/jovyan/work/neo4j/import/20-23/\")\n",
    "print(network_node_result)"
   ]
  },
  {
   "cell_type": "code",
   "execution_count": 11,
   "id": "89fd1794-2b7b-43f0-a301-6edc3dc46388",
   "metadata": {},
   "outputs": [
    {
     "name": "stdout",
     "output_type": "stream",
     "text": [
      "['AIA-201-225.ecar-2019-12-07T22-06-33.589_network_relations.csv', 'AIA-201-225.ecar-2019-12-07T19-16-05.788_network_relations.csv', 'AIA-201-225.ecar-2019-12-08T01-57-30.012_network_relations.csv', 'AIA-201-225.ecar-2019-12-08T05-46-21.658_network_relations.csv', 'AIA-201-225.ecar-last_network_relations.csv', 'AIA-501-525.ecar-2019-11-15T03-10-00.546_network_relations.csv', 'AIA-501-525.ecar-2019-11-15T05-59-37.208_network_relations.csv', 'AIA-501-525.ecar-2019-11-15T09-43-35.856_network_relations.csv', 'AIA-501-525.ecar-2019-11-15T13-29-59.064_network_relations.csv', 'AIA-501-525.ecar-last_network_relations.csv']\n"
     ]
    }
   ],
   "source": [
    "import os\n",
    "#Gets all flow node files and puts them in a variable\n",
    "def get_network_relations_files(directory):\n",
    "    network_relations_files = []\n",
    "    for filename in os.listdir(directory):\n",
    "        if filename.endswith('_network_relations.csv'):\n",
    "             network_relations_files.append(filename)\n",
    "    return network_relations_files\n",
    "\n",
    "network_relations_result=get_network_relations_files(\"/home/jovyan/work/neo4j/import/20-23/\")\n",
    "print(network_relations_result)"
   ]
  },
  {
   "cell_type": "code",
   "execution_count": 3,
   "id": "e760ab46-9edc-4b4a-a3ca-828d65e5a450",
   "metadata": {},
   "outputs": [
    {
     "name": "stdout",
     "output_type": "stream",
     "text": [
      "['AIA-201-225.ecar-2019-12-07T22-06-33.589_shell_nodes.csv', 'AIA-501-525.ecar-2019-11-15T05-59-37.208_shell_nodes.csv']\n"
     ]
    }
   ],
   "source": [
    "import os\n",
    "#Gets all shell node files and puts them in a variable\n",
    "def get_shell_node_files(directory):\n",
    "    shell_node_files = []\n",
    "    for filename in os.listdir(directory):\n",
    "        if filename.endswith('_shell_nodes.csv'):\n",
    "             shell_node_files.append(filename)\n",
    "    return shell_node_files\n",
    "\n",
    "shell_node_result=get_shell_node_files(\"/home/jovyan/work/neo4j/import/20-23/\")\n",
    "print(shell_node_result)"
   ]
  },
  {
   "cell_type": "code",
   "execution_count": 4,
   "id": "731b606e-8eea-48ac-88ad-1e536baa7633",
   "metadata": {},
   "outputs": [
    {
     "name": "stdout",
     "output_type": "stream",
     "text": [
      "['AIA-201-225.ecar-2019-12-07T22-06-33.589_shell_relations.csv', 'AIA-501-525.ecar-2019-11-15T05-59-37.208_shell_relations.csv']\n"
     ]
    }
   ],
   "source": [
    "import os\n",
    "#Gets all shell relationsfiles and puts them in a variable\n",
    "def get_shell_relations_files(directory):\n",
    "    shell_relations_files = []\n",
    "    for filename in os.listdir(directory):\n",
    "        if filename.endswith('_shell_relations.csv'):\n",
    "             shell_relations_files.append(filename)\n",
    "    return shell_relations_files\n",
    "\n",
    "shell_relations_result=get_shell_relations_files(\"/home/jovyan/work/neo4j/import/20-23/\")\n",
    "print(shell_relations_result)"
   ]
  },
  {
   "cell_type": "markdown",
   "id": "974f7c59-06fb-4060-bb69-8a6a5fa3e660",
   "metadata": {},
   "source": [
    "**import data from files**"
   ]
  },
  {
   "cell_type": "code",
   "execution_count": 13,
   "id": "baad896f-21dd-4268-ac56-05b74cf5021c",
   "metadata": {},
   "outputs": [
    {
     "name": "stdout",
     "output_type": "stream",
     "text": [
      "AIA-201-225.ecar-2019-12-07T22-06-33.589_process_nodes.csv\n",
      "AIA-201-225.ecar-2019-12-07T19-16-05.788_process_nodes.csv\n",
      "AIA-201-225.ecar-2019-12-08T01-57-30.012_process_nodes.csv\n",
      "AIA-201-225.ecar-2019-12-08T05-46-21.658_process_nodes.csv\n",
      "AIA-201-225.ecar-last_process_nodes.csv\n",
      "AIA-501-525.ecar-2019-11-15T03-10-00.546_process_nodes.csv\n",
      "AIA-501-525.ecar-2019-11-15T05-59-37.208_process_nodes.csv\n",
      "AIA-501-525.ecar-2019-11-15T09-43-35.856_process_nodes.csv\n",
      "AIA-501-525.ecar-2019-11-15T13-29-59.064_process_nodes.csv\n",
      "AIA-501-525.ecar-last_process_nodes.csv\n",
      "CPU times: user 29 ms, sys: 2.82 ms, total: 31.8 ms\n",
      "Wall time: 55.6 s\n"
     ]
    }
   ],
   "source": [
    "%%time\n",
    "\n",
    "for filename in process_node_result:\n",
    "    print(filename)\n",
    "    \n",
    "    query = '''\n",
    "        LOAD CSV WITH HEADERS FROM 'file:///20-23/{0}' AS row\n",
    "        CALL {{\n",
    "            WITH row\n",
    "            MERGE (c:Process {{\n",
    "                ProcessGuid: row.ProcessGuid,\n",
    "                ParentProcessGuid: row.ParentProcessGuid,\n",
    "                Pid: row.Pid,\n",
    "                Ppid: row.Ppid,\n",
    "                EventTime: row.timestamp_str,\n",
    "                Hostname: row.Hostname,\n",
    "                Object: row.Object,\n",
    "                Acuity_level: row.Acuity_level,\n",
    "                Image_path: row.Image_path,\n",
    "                Parent_image_path: row.Parent_image_path,\n",
    "                User: row.User,\n",
    "                Principal: row.Principal,\n",
    "                CommandLine: row.CommandLine,\n",
    "                CommandLine_length: row.CommandLine_length,\n",
    "                Action: row.Action,\n",
    "                Sid: row.Sid,\n",
    "                Tid: row.Tid\n",
    "            }})\n",
    "        }} IN TRANSACTIONS OF 500 ROWS;\n",
    "    '''.format(filename)\n",
    "    gds.run_cypher(query)\n"
   ]
  },
  {
   "cell_type": "code",
   "execution_count": 14,
   "id": "38442179-450f-4059-a0ec-c57e6c29440b",
   "metadata": {},
   "outputs": [
    {
     "name": "stdout",
     "output_type": "stream",
     "text": [
      "AIA-201-225.ecar-2019-12-07T22-06-33.589_process_relations.csv\n",
      "AIA-201-225.ecar-2019-12-07T19-16-05.788_process_relations.csv\n",
      "AIA-201-225.ecar-2019-12-08T01-57-30.012_process_relations.csv\n",
      "AIA-201-225.ecar-2019-12-08T05-46-21.658_process_relations.csv\n",
      "AIA-201-225.ecar-last_process_relations.csv\n",
      "AIA-501-525.ecar-2019-11-15T03-10-00.546_process_relations.csv\n",
      "AIA-501-525.ecar-2019-11-15T05-59-37.208_process_relations.csv\n",
      "AIA-501-525.ecar-2019-11-15T09-43-35.856_process_relations.csv\n",
      "AIA-501-525.ecar-2019-11-15T13-29-59.064_process_relations.csv\n",
      "AIA-501-525.ecar-last_process_relations.csv\n",
      "CPU times: user 31.6 ms, sys: 1.95 ms, total: 33.6 ms\n",
      "Wall time: 41.8 s\n"
     ]
    }
   ],
   "source": [
    "%%time\n",
    "\n",
    "#Import and create the relations between the process parent and child relationship\n",
    "for filename in process_relation_result:\n",
    "    print(filename)\n",
    "\n",
    "    query = '''\n",
    "        LOAD CSV WITH HEADERS FROM 'file:///20-23/{0}' AS row\n",
    "        CALL {{\n",
    "            WITH row\n",
    "            MATCH (p1:Process {{ProcessGuid:row.ProcessGuid}})\n",
    "            MATCH (p2:Process {{ProcessGuid:row.ParentProcessGuid}})\n",
    "            MERGE (p1)-[r: Parent]->(p2)\n",
    "        }}  IN TRANSACTIONS of 50 rows;\n",
    "    '''.format(filename)\n",
    "    gds.run_cypher(query)\n"
   ]
  },
  {
   "cell_type": "code",
   "execution_count": 15,
   "id": "ab903cae-1b1c-46a8-add5-ca6cfd1659ed",
   "metadata": {},
   "outputs": [
    {
     "data": {
      "text/html": [
       "<div>\n",
       "<style scoped>\n",
       "    .dataframe tbody tr th:only-of-type {\n",
       "        vertical-align: middle;\n",
       "    }\n",
       "\n",
       "    .dataframe tbody tr th {\n",
       "        vertical-align: top;\n",
       "    }\n",
       "\n",
       "    .dataframe thead th {\n",
       "        text-align: right;\n",
       "    }\n",
       "</style>\n",
       "<table border=\"1\" class=\"dataframe\">\n",
       "  <thead>\n",
       "    <tr style=\"text-align: right;\">\n",
       "      <th></th>\n",
       "    </tr>\n",
       "  </thead>\n",
       "  <tbody>\n",
       "  </tbody>\n",
       "</table>\n",
       "</div>"
      ],
      "text/plain": [
       "Empty DataFrame\n",
       "Columns: []\n",
       "Index: []"
      ]
     },
     "execution_count": 15,
     "metadata": {},
     "output_type": "execute_result"
    }
   ],
   "source": [
    "#Create constraint for network node, massivly speeds up import\n",
    "gds.run_cypher(\"\"\"CREATE CONSTRAINT Network_connection_node FOR (Network_connection_node:Network_connection_node) REQUIRE Network_connection_node.unknown IS UNIQUE\"\"\")"
   ]
  },
  {
   "cell_type": "code",
   "execution_count": 16,
   "id": "e2a84b6e-6e34-4913-b671-dade43f50731",
   "metadata": {},
   "outputs": [
    {
     "data": {
      "text/html": [
       "<div>\n",
       "<style scoped>\n",
       "    .dataframe tbody tr th:only-of-type {\n",
       "        vertical-align: middle;\n",
       "    }\n",
       "\n",
       "    .dataframe tbody tr th {\n",
       "        vertical-align: top;\n",
       "    }\n",
       "\n",
       "    .dataframe thead th {\n",
       "        text-align: right;\n",
       "    }\n",
       "</style>\n",
       "<table border=\"1\" class=\"dataframe\">\n",
       "  <thead>\n",
       "    <tr style=\"text-align: right;\">\n",
       "      <th></th>\n",
       "    </tr>\n",
       "  </thead>\n",
       "  <tbody>\n",
       "  </tbody>\n",
       "</table>\n",
       "</div>"
      ],
      "text/plain": [
       "Empty DataFrame\n",
       "Columns: []\n",
       "Index: []"
      ]
     },
     "execution_count": 16,
     "metadata": {},
     "output_type": "execute_result"
    }
   ],
   "source": [
    "#Create index on parentprocessguid\n",
    "gds.run_cypher(\"\"\"CREATE TEXT INDEX quicker_import FOR (p:Process) ON (p.ParentProcessGuid)\"\"\")"
   ]
  },
  {
   "cell_type": "code",
   "execution_count": 17,
   "id": "ed007322-827a-4378-85d8-2b442bb8aa42",
   "metadata": {},
   "outputs": [
    {
     "name": "stdout",
     "output_type": "stream",
     "text": [
      "AIA-201-225.ecar-2019-12-07T22-06-33.589_network_node.csv\n",
      "AIA-201-225.ecar-2019-12-07T19-16-05.788_network_node.csv\n",
      "AIA-201-225.ecar-2019-12-08T01-57-30.012_network_node.csv\n",
      "AIA-201-225.ecar-2019-12-08T05-46-21.658_network_node.csv\n",
      "AIA-201-225.ecar-last_network_node.csv\n",
      "AIA-501-525.ecar-2019-11-15T03-10-00.546_network_node.csv\n",
      "AIA-501-525.ecar-2019-11-15T05-59-37.208_network_node.csv\n",
      "AIA-501-525.ecar-2019-11-15T09-43-35.856_network_node.csv\n",
      "AIA-501-525.ecar-2019-11-15T13-29-59.064_network_node.csv\n",
      "AIA-501-525.ecar-last_network_node.csv\n",
      "CPU times: user 33.4 ms, sys: 5.58 ms, total: 39 ms\n",
      "Wall time: 4min 19s\n"
     ]
    }
   ],
   "source": [
    "%%time\n",
    "#Import the network nodes\n",
    "\n",
    "for filename in network_node_result:\n",
    "    print(filename)\n",
    "\n",
    "    query = '''\n",
    "        LOAD CSV WITH HEADERS FROM 'file:///20-23/{0}' AS row\n",
    "        CALL {{\n",
    "            WITH row\n",
    "            MERGE (c:Network_connection_node {{\n",
    "                unknown: row.unknown,\n",
    "                ProcessGuid: row.ProcessGuid,\n",
    "                EventTime: row.timestamp_str,\n",
    "                Hostname: row.Hostname,\n",
    "                Initiated: row.Initiated,\n",
    "                SourceIp: row.SourceIp,\n",
    "                SourcePort: row.SourcePort,\n",
    "                DestinationIp: row.DestinationIp,\n",
    "                DestinationPort: row.DestinationPort,\n",
    "                Protocol: row.Protocol,\n",
    "                ProcessID: row.Pid,\n",
    "                Image_path: row.Image_path,\n",
    "                User: row.Principal,\n",
    "                Tid: row.Tid\n",
    "            }})\n",
    "        }} IN TRANSACTIONS OF 500 ROWS;\n",
    "    '''.format(filename)\n",
    "    gds.run_cypher(query)\n",
    "\n"
   ]
  },
  {
   "cell_type": "code",
   "execution_count": 18,
   "id": "ec1c8d78-92f4-417c-ba56-22ef21e6d054",
   "metadata": {},
   "outputs": [
    {
     "data": {
      "text/html": [
       "<div>\n",
       "<style scoped>\n",
       "    .dataframe tbody tr th:only-of-type {\n",
       "        vertical-align: middle;\n",
       "    }\n",
       "\n",
       "    .dataframe tbody tr th {\n",
       "        vertical-align: top;\n",
       "    }\n",
       "\n",
       "    .dataframe thead th {\n",
       "        text-align: right;\n",
       "    }\n",
       "</style>\n",
       "<table border=\"1\" class=\"dataframe\">\n",
       "  <thead>\n",
       "    <tr style=\"text-align: right;\">\n",
       "      <th></th>\n",
       "    </tr>\n",
       "  </thead>\n",
       "  <tbody>\n",
       "  </tbody>\n",
       "</table>\n",
       "</div>"
      ],
      "text/plain": [
       "Empty DataFrame\n",
       "Columns: []\n",
       "Index: []"
      ]
     },
     "execution_count": 18,
     "metadata": {},
     "output_type": "execute_result"
    }
   ],
   "source": [
    "##Create text index on the data we are searching for\n",
    "gds.run_cypher(\"\"\"CREATE TEXT INDEX quicker_network_search FOR (c:Network_connection_node) ON (c.ProcessGuid)\"\"\")"
   ]
  },
  {
   "cell_type": "code",
   "execution_count": 19,
   "id": "7de99d50-df5c-4f7b-bedd-6922f4342f89",
   "metadata": {},
   "outputs": [
    {
     "name": "stdout",
     "output_type": "stream",
     "text": [
      "AIA-201-225.ecar-2019-12-07T22-06-33.589_network_relations.csv\n",
      "AIA-201-225.ecar-2019-12-07T19-16-05.788_network_relations.csv\n",
      "AIA-201-225.ecar-2019-12-08T01-57-30.012_network_relations.csv\n",
      "AIA-201-225.ecar-2019-12-08T05-46-21.658_network_relations.csv\n",
      "AIA-201-225.ecar-last_network_relations.csv\n",
      "AIA-501-525.ecar-2019-11-15T03-10-00.546_network_relations.csv\n",
      "AIA-501-525.ecar-2019-11-15T05-59-37.208_network_relations.csv\n",
      "AIA-501-525.ecar-2019-11-15T09-43-35.856_network_relations.csv\n",
      "AIA-501-525.ecar-2019-11-15T13-29-59.064_network_relations.csv\n",
      "AIA-501-525.ecar-last_network_relations.csv\n",
      "CPU times: user 2.25 s, sys: 1.01 s, total: 3.25 s\n",
      "Wall time: 1d 3h 38s\n"
     ]
    }
   ],
   "source": [
    "%%time\n",
    "#Import the network nodes relations \n",
    "for filename in network_relations_result:\n",
    "    print(filename)\n",
    "\n",
    "    query = '''\n",
    "        LOAD CSV WITH HEADERS FROM 'file:///20-23/{0}' AS row\n",
    "        CALL {{\n",
    "            WITH row\n",
    "            MATCH (p1:Process {{ProcessGuid: row.ProcessGuid}})\n",
    "            MATCH (c2:Network_connection_node {{ProcessGuid: row.ProcessGuid}})\n",
    "            MERGE (p1)-[c: Connection]->(c2)\n",
    "        }}  IN TRANSACTIONS of 40 rows;\n",
    "    '''.format(filename)\n",
    "    gds.run_cypher(query)\n"
   ]
  },
  {
   "cell_type": "code",
   "execution_count": null,
   "id": "71f623ef-9aa4-4318-b1a8-fe446c59bc3b",
   "metadata": {},
   "outputs": [],
   "source": []
  },
  {
   "cell_type": "code",
   "execution_count": 20,
   "id": "fbb2e568-23b5-44f9-bd83-b57df992a0db",
   "metadata": {},
   "outputs": [
    {
     "data": {
      "text/html": [
       "<div>\n",
       "<style scoped>\n",
       "    .dataframe tbody tr th:only-of-type {\n",
       "        vertical-align: middle;\n",
       "    }\n",
       "\n",
       "    .dataframe tbody tr th {\n",
       "        vertical-align: top;\n",
       "    }\n",
       "\n",
       "    .dataframe thead th {\n",
       "        text-align: right;\n",
       "    }\n",
       "</style>\n",
       "<table border=\"1\" class=\"dataframe\">\n",
       "  <thead>\n",
       "    <tr style=\"text-align: right;\">\n",
       "      <th></th>\n",
       "    </tr>\n",
       "  </thead>\n",
       "  <tbody>\n",
       "  </tbody>\n",
       "</table>\n",
       "</div>"
      ],
      "text/plain": [
       "Empty DataFrame\n",
       "Columns: []\n",
       "Index: []"
      ]
     },
     "execution_count": 20,
     "metadata": {},
     "output_type": "execute_result"
    }
   ],
   "source": [
    "#create constraint on files\n",
    "gds.run_cypher(\"\"\"CREATE CONSTRAINT File FOR (file:File) REQUIRE file.unknown IS UNIQUE\"\"\")"
   ]
  },
  {
   "cell_type": "code",
   "execution_count": 21,
   "id": "c9f420ea-3583-4e9f-be31-9e6090a0c02b",
   "metadata": {},
   "outputs": [],
   "source": [
    "##Action,ParentProcessGuid,Hostname,unknown,Object,ProcessGuid,Pid,Ppid,Principal,Acuity_level,file_path,Image_path,info_class,Sid"
   ]
  },
  {
   "cell_type": "code",
   "execution_count": 22,
   "id": "031076da-b5ca-4bce-87b0-9ef109d1934e",
   "metadata": {},
   "outputs": [
    {
     "name": "stdout",
     "output_type": "stream",
     "text": [
      "AIA-201-225.ecar-2019-12-07T22-06-33.589_file_nodes.csv\n",
      "AIA-201-225.ecar-2019-12-07T19-16-05.788_file_nodes.csv\n",
      "AIA-201-225.ecar-2019-12-08T01-57-30.012_file_nodes.csv\n",
      "AIA-201-225.ecar-2019-12-08T05-46-21.658_file_nodes.csv\n",
      "AIA-201-225.ecar-last_file_nodes.csv\n",
      "AIA-501-525.ecar-2019-11-15T03-10-00.546_file_nodes.csv\n",
      "AIA-501-525.ecar-2019-11-15T05-59-37.208_file_nodes.csv\n",
      "AIA-501-525.ecar-2019-11-15T09-43-35.856_file_nodes.csv\n",
      "AIA-501-525.ecar-2019-11-15T13-29-59.064_file_nodes.csv\n",
      "AIA-501-525.ecar-last_file_nodes.csv\n",
      "CPU times: user 36.1 ms, sys: 6.97 ms, total: 43.1 ms\n",
      "Wall time: 6min 54s\n"
     ]
    }
   ],
   "source": [
    "%%time\n",
    "#Import the file nodes\n",
    "for filename in file_node_result:\n",
    "    print(filename)\n",
    "\n",
    "    query = '''\n",
    "        LOAD CSV WITH HEADERS FROM 'file:///20-23/{0}' AS row\n",
    "        CALL {{\n",
    "            WITH row\n",
    "            MERGE (c:File {{\n",
    "                unknown: row.unknown,\n",
    "                Possible_ProcessGuid: row.Possible_ProcessGuid,\n",
    "                ProcessGuid: row.ProcessGuid,\n",
    "                EventTime: row.timestamp_str,\n",
    "                Hostname: row.Hostname,\n",
    "                ProcessID: row.Pid,\n",
    "                Image_path: row.Image_path,\n",
    "                User: row.Principal,\n",
    "                Acuity_level: row.Acuity_level,\n",
    "                file_path: row.file_path,\n",
    "                info_class: row.info_class,\n",
    "                Tid: row.Tid\n",
    "            }})\n",
    "        }} IN TRANSACTIONS OF 500 ROWS;\n",
    "    '''.format(filename)\n",
    "    gds.run_cypher(query)\n",
    "\n"
   ]
  },
  {
   "cell_type": "code",
   "execution_count": 23,
   "id": "55402161-1ba6-4a26-a111-b0de38b6fabf",
   "metadata": {},
   "outputs": [
    {
     "data": {
      "text/html": [
       "<div>\n",
       "<style scoped>\n",
       "    .dataframe tbody tr th:only-of-type {\n",
       "        vertical-align: middle;\n",
       "    }\n",
       "\n",
       "    .dataframe tbody tr th {\n",
       "        vertical-align: top;\n",
       "    }\n",
       "\n",
       "    .dataframe thead th {\n",
       "        text-align: right;\n",
       "    }\n",
       "</style>\n",
       "<table border=\"1\" class=\"dataframe\">\n",
       "  <thead>\n",
       "    <tr style=\"text-align: right;\">\n",
       "      <th></th>\n",
       "    </tr>\n",
       "  </thead>\n",
       "  <tbody>\n",
       "  </tbody>\n",
       "</table>\n",
       "</div>"
      ],
      "text/plain": [
       "Empty DataFrame\n",
       "Columns: []\n",
       "Index: []"
      ]
     },
     "execution_count": 23,
     "metadata": {},
     "output_type": "execute_result"
    }
   ],
   "source": [
    "##Create text index on the data we are searching for\n",
    "gds.run_cypher(\"\"\"CREATE TEXT INDEX quicker_File_search FOR (f:File) ON (f.ProcessGuid)\"\"\")"
   ]
  },
  {
   "cell_type": "code",
   "execution_count": 24,
   "id": "70b42075-544b-4822-9358-dc52c00299c8",
   "metadata": {},
   "outputs": [
    {
     "name": "stdout",
     "output_type": "stream",
     "text": [
      "AIA-201-225.ecar-2019-12-07T22-06-33.589_file_relations.csv\n",
      "AIA-201-225.ecar-2019-12-07T19-16-05.788_file_relations.csv\n",
      "AIA-201-225.ecar-2019-12-08T01-57-30.012_file_relations.csv\n",
      "AIA-201-225.ecar-2019-12-08T05-46-21.658_file_relations.csv\n",
      "AIA-201-225.ecar-last_file_relations.csv\n",
      "AIA-501-525.ecar-2019-11-15T03-10-00.546_file_relations.csv\n",
      "AIA-501-525.ecar-2019-11-15T05-59-37.208_file_relations.csv\n",
      "AIA-501-525.ecar-2019-11-15T09-43-35.856_file_relations.csv\n",
      "AIA-501-525.ecar-2019-11-15T13-29-59.064_file_relations.csv\n",
      "AIA-501-525.ecar-last_file_relations.csv\n",
      "CPU times: user 9.34 s, sys: 4.88 s, total: 14.2 s\n",
      "Wall time: 5d 2h 5min 10s\n"
     ]
    }
   ],
   "source": [
    "%%time\n",
    "#Import the file nodes relations\n",
    "for filename in file_relations_result:\n",
    "    print(filename)\n",
    "\n",
    "    query = '''\n",
    "        LOAD CSV WITH HEADERS FROM 'file:///20-23/{0}' AS row\n",
    "        CALL {{\n",
    "            WITH row\n",
    "            MATCH (p1:Process {{ProcessGuid: row.ProcessGuid}})\n",
    "            MATCH (f1:File {{ProcessGuid: row.ProcessGuid}})\n",
    "            MERGE (p1)-[c:Created_file]->(f1)\n",
    "        }}  IN TRANSACTIONS of 40 rows;\n",
    "    '''.format(filename)\n",
    "    gds.run_cypher(query)\n"
   ]
  },
  {
   "cell_type": "code",
   "execution_count": 9,
   "id": "28ead70d-2f8a-401b-b651-b42945362bd6",
   "metadata": {},
   "outputs": [
    {
     "name": "stdout",
     "output_type": "stream",
     "text": [
      "CPU times: user 3.58 ms, sys: 1.18 ms, total: 4.76 ms\n",
      "Wall time: 138 ms\n"
     ]
    },
    {
     "data": {
      "text/html": [
       "<div>\n",
       "<style scoped>\n",
       "    .dataframe tbody tr th:only-of-type {\n",
       "        vertical-align: middle;\n",
       "    }\n",
       "\n",
       "    .dataframe tbody tr th {\n",
       "        vertical-align: top;\n",
       "    }\n",
       "\n",
       "    .dataframe thead th {\n",
       "        text-align: right;\n",
       "    }\n",
       "</style>\n",
       "<table border=\"1\" class=\"dataframe\">\n",
       "  <thead>\n",
       "    <tr style=\"text-align: right;\">\n",
       "      <th></th>\n",
       "    </tr>\n",
       "  </thead>\n",
       "  <tbody>\n",
       "  </tbody>\n",
       "</table>\n",
       "</div>"
      ],
      "text/plain": [
       "Empty DataFrame\n",
       "Columns: []\n",
       "Index: []"
      ]
     },
     "execution_count": 9,
     "metadata": {},
     "output_type": "execute_result"
    }
   ],
   "source": [
    "%%time\n",
    "#Create constraint for shell node, massivly speeds up import\n",
    "gds.run_cypher(\"\"\"CREATE CONSTRAINT Shell FOR (shell:Shell) REQUIRE shell.unknown IS UNIQUE\"\"\")"
   ]
  },
  {
   "cell_type": "code",
   "execution_count": 6,
   "id": "7b9d70d4-f5dd-4a6c-a19f-8204f05c1d89",
   "metadata": {},
   "outputs": [
    {
     "name": "stdout",
     "output_type": "stream",
     "text": [
      "AIA-201-225.ecar-2019-12-07T22-06-33.589_shell_nodes.csv\n",
      "AIA-501-525.ecar-2019-11-15T05-59-37.208_shell_nodes.csv\n",
      "CPU times: user 8.29 ms, sys: 0 ns, total: 8.29 ms\n",
      "Wall time: 404 ms\n"
     ]
    }
   ],
   "source": [
    "%%time\n",
    "#Import the file nodes\n",
    "for filename in shell_node_result:\n",
    "    print(filename)\n",
    "\n",
    "    query = '''\n",
    "        LOAD CSV WITH HEADERS FROM 'file:///20-23/{0}' AS row\n",
    "        CALL {{\n",
    "            WITH row\n",
    "            MERGE (s:Shell {{\n",
    "                Action: row.Action,\n",
    "                ProcessGuid: row.ProcessGuid,\n",
    "                Hostname: row.Hostname,\n",
    "                unknown: row.unknown,\n",
    "                Object: row.Object,\n",
    "                Unkown_ProcessGuid: row.Unkown_ProcessGuid,\n",
    "                Pid: row.Pid,\n",
    "                Ppid: row.Ppid,\n",
    "                Principal: row.Principal,\n",
    "                Acuity_level: row.Acuity_level,\n",
    "                Image_path: row.Image_path,\n",
    "                Sid: row.Sid,\n",
    "                User: row.User,\n",
    "                Tid: row.Tid,\n",
    "                timestamp_str: row.timestamp_str,\n",
    "                Severity_level: row.Severity_level,\n",
    "                Host_type: row.Host_type,\n",
    "                Console_Version: row.Console_Version,\n",
    "                Host_ID: row.Host_ID,\n",
    "                CommandLine: row.CommandLine,\n",
    "                Engine_Version: row.Engine_Version,\n",
    "                Runspace_ID: row.Runspace_ID,\n",
    "                Pipeline_ID: row.Pipeline_ID,\n",
    "                Command_Name: row.Command_Name,\n",
    "                Command_Type: row.Command_Type,\n",
    "                Script_Name: row.Script_Name,\n",
    "                Command_Path: row.Command_Path,\n",
    "                Sequence_Number: row.Sequence_Number,\n",
    "                Shell_User: row.Shell_User,\n",
    "                Connected_User: row.Connected_User,\n",
    "                Shell_type: row.Shell_type  \n",
    "            }})\n",
    "        }} IN TRANSACTIONS OF 500 ROWS;\n",
    "    '''.format(filename)\n",
    "    gds.run_cypher(query)"
   ]
  },
  {
   "cell_type": "code",
   "execution_count": 13,
   "id": "b64f2363-1a01-42ea-ae21-328e9731cdb8",
   "metadata": {},
   "outputs": [
    {
     "data": {
      "text/html": [
       "<div>\n",
       "<style scoped>\n",
       "    .dataframe tbody tr th:only-of-type {\n",
       "        vertical-align: middle;\n",
       "    }\n",
       "\n",
       "    .dataframe tbody tr th {\n",
       "        vertical-align: top;\n",
       "    }\n",
       "\n",
       "    .dataframe thead th {\n",
       "        text-align: right;\n",
       "    }\n",
       "</style>\n",
       "<table border=\"1\" class=\"dataframe\">\n",
       "  <thead>\n",
       "    <tr style=\"text-align: right;\">\n",
       "      <th></th>\n",
       "    </tr>\n",
       "  </thead>\n",
       "  <tbody>\n",
       "  </tbody>\n",
       "</table>\n",
       "</div>"
      ],
      "text/plain": [
       "Empty DataFrame\n",
       "Columns: []\n",
       "Index: []"
      ]
     },
     "execution_count": 13,
     "metadata": {},
     "output_type": "execute_result"
    }
   ],
   "source": [
    "##Create text index on the data we are searching for\n",
    "gds.run_cypher(\"\"\"CREATE TEXT INDEX quicker_shell_search FOR (s:Shell) ON (s.ProcessGuid)\"\"\")"
   ]
  },
  {
   "cell_type": "code",
   "execution_count": 7,
   "id": "d703337b-54fc-4c67-b3e0-f3cff559ad4c",
   "metadata": {},
   "outputs": [
    {
     "name": "stdout",
     "output_type": "stream",
     "text": [
      "AIA-201-225.ecar-2019-12-07T22-06-33.589_shell_relations.csv\n",
      "AIA-501-525.ecar-2019-11-15T05-59-37.208_shell_relations.csv\n",
      "CPU times: user 8.59 ms, sys: 0 ns, total: 8.59 ms\n",
      "Wall time: 429 ms\n"
     ]
    }
   ],
   "source": [
    "%%time\n",
    "#Import the file nodes relations\n",
    "for filename in shell_relations_result:\n",
    "    print(filename)\n",
    "\n",
    "    query = '''\n",
    "        LOAD CSV WITH HEADERS FROM 'file:///20-23/{0}' AS row\n",
    "        CALL {{\n",
    "            WITH row\n",
    "            MATCH (p1:Process {{ProcessGuid: row.ProcessGuid}})\n",
    "            MATCH (s1:Shell {{ProcessGuid: row.ProcessGuid}})\n",
    "            MERGE (p1)-[c:ran_shell_command]->(s1)\n",
    "        }}  IN TRANSACTIONS of 40 rows;\n",
    "    '''.format(filename)\n",
    "    gds.run_cypher(query)"
   ]
  },
  {
   "cell_type": "code",
   "execution_count": null,
   "id": "3156700f-7556-4914-bf22-6c95a00db78f",
   "metadata": {},
   "outputs": [],
   "source": [
    "# dont run what is¨after this frame, it is just troubleshooting stuff"
   ]
  },
  {
   "cell_type": "code",
   "execution_count": null,
   "id": "1218d3eb-cf6c-4b21-b250-6ba798ed3137",
   "metadata": {},
   "outputs": [],
   "source": [
    "#Troubleshoot file relations \n",
    "#org file node import\n",
    "%%time\n",
    "#Import the file nodes\n",
    "#for filename in file_node_result:\n",
    "#    print(filename)\n",
    "\n",
    "#    query = '''\n",
    "        LOAD CSV WITH HEADERS FROM 'file:///{0}' AS row\n",
    "        CALL {{\n",
    "            WITH row\n",
    "            MERGE (c:File {{\n",
    "                unknown: row.unknown,\n",
    "                ParentProcessGuid: row.ParentProcessGuid,\n",
    "                ProcessGuid: row.ProcessGuid,\n",
    "                EventTime: row.timestamp_str,\n",
    "                Hostname: row.Hostname,\n",
    "                ProcessID: row.Pid,\n",
    "                Image_path: row.Image_path,\n",
    "                User: row.Principal,\n",
    "                Acuity_level: row.Acuity_level,\n",
    "                file_path: row.file_path,\n",
    "                info_class: row.info_class,\n",
    "                Tid: row.Tid\n",
    "            }})\n",
    "        }} IN TRANSACTIONS OF 500 ROWS;\n",
    " #   '''.format(filename)\n",
    " #   gds.run_cypher(query)\n",
    "\n",
    "\n"
   ]
  }
 ],
 "metadata": {
  "kernelspec": {
   "display_name": "Python 3 (ipykernel)",
   "language": "python",
   "name": "python3"
  },
  "language_info": {
   "codemirror_mode": {
    "name": "ipython",
    "version": 3
   },
   "file_extension": ".py",
   "mimetype": "text/x-python",
   "name": "python",
   "nbconvert_exporter": "python",
   "pygments_lexer": "ipython3",
   "version": "3.10.6"
  }
 },
 "nbformat": 4,
 "nbformat_minor": 5
}
