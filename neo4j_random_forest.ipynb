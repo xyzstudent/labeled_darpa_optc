{
 "cells": [
  {
   "cell_type": "code",
   "execution_count": 1,
   "id": "96b6f764-0864-411e-8446-ff9fbb9b99d1",
   "metadata": {},
   "outputs": [],
   "source": [
    "#Get plaintext secrets\n",
    "\n",
    "from configparser import ConfigParser\n",
    "parser = ConfigParser()\n",
    "_ = parser.read('secrets.cfg')\n",
    "neo4j_useraccount = parser.get('my_data', 'neo4j_useraccount')\n",
    "neo4j_password = parser.get('my_data', 'neo4j_password')\n"
   ]
  },
  {
   "cell_type": "code",
   "execution_count": 13,
   "id": "652318bf-0c5c-4e27-ac47-30ec9b7817ab",
   "metadata": {},
   "outputs": [],
   "source": [
    "import pandas as pd\n",
    "import configparser\n",
    "import os\n",
    "\n",
    "#sklearn modules\n",
    "from sklearn.model_selection import train_test_split\n",
    "from sklearn.metrics import accuracy_score, precision_score, recall_score, matthews_corrcoef\n",
    "from sklearn.metrics import roc_curve,RocCurveDisplay,confusion_matrix\n",
    "\n",
    "#Smote modules\n",
    "from imblearn.over_sampling import SMOTE,BorderlineSMOTE\n",
    "\n",
    "\n",
    "#import visualization libraries\n",
    "import numpy as np\n",
    "import seaborn as sns\n",
    "import matplotlib.pyplot as plt\n",
    "import graphviz\n",
    "\n",
    "\n",
    "#set settings for panda dataframes\n",
    "pd.set_option('display.width', 0)\n",
    "pd.set_option('display.max_colwidth', 0)\n",
    "pd.set_option('display.max_rows', 50)"
   ]
  },
  {
   "cell_type": "code",
   "execution_count": 14,
   "id": "3d785159-adb1-46c1-b53e-ec7c6113888c",
   "metadata": {},
   "outputs": [],
   "source": [
    "from graphdatascience import GraphDataScience\n",
    "\n",
    "host = \"bolt://172.17.0.2:7687\"\n",
    "user = neo4j_useraccount\n",
    "password= neo4j_password\n",
    "\n",
    "gds = GraphDataScience(host, auth=(user, password))"
   ]
  },
  {
   "cell_type": "code",
   "execution_count": 15,
   "id": "b5b001b1-52f4-497d-befa-e6ddfdb8ef21",
   "metadata": {},
   "outputs": [
    {
     "name": "stdout",
     "output_type": "stream",
     "text": [
      "CPU times: user 42.6 s, sys: 4.36 s, total: 46.9 s\n",
      "Wall time: 55.5 s\n"
     ]
    },
    {
     "data": {
      "text/html": [
       "<div>\n",
       "<style scoped>\n",
       "    .dataframe tbody tr th:only-of-type {\n",
       "        vertical-align: middle;\n",
       "    }\n",
       "\n",
       "    .dataframe tbody tr th {\n",
       "        vertical-align: top;\n",
       "    }\n",
       "\n",
       "    .dataframe thead th {\n",
       "        text-align: right;\n",
       "    }\n",
       "</style>\n",
       "<table border=\"1\" class=\"dataframe\">\n",
       "  <thead>\n",
       "    <tr style=\"text-align: right;\">\n",
       "      <th></th>\n",
       "      <th>CommandLine_length</th>\n",
       "      <th>Network_degree</th>\n",
       "      <th>Direct_children</th>\n",
       "      <th>ProcessGuid</th>\n",
       "      <th>Numbers_of_executed_commands</th>\n",
       "      <th>Numbers_of_files_created</th>\n",
       "      <th>Malicious</th>\n",
       "    </tr>\n",
       "  </thead>\n",
       "  <tbody>\n",
       "    <tr>\n",
       "      <th>0</th>\n",
       "      <td>59.0</td>\n",
       "      <td>0.0</td>\n",
       "      <td>5.0</td>\n",
       "      <td>28f0b276-992e-4b7b-9b4f-82394971205f</td>\n",
       "      <td>0.0</td>\n",
       "      <td>0.0</td>\n",
       "      <td>0</td>\n",
       "    </tr>\n",
       "    <tr>\n",
       "      <th>1</th>\n",
       "      <td>55.0</td>\n",
       "      <td>0.0</td>\n",
       "      <td>0.0</td>\n",
       "      <td>e931d104-d525-407f-8d9e-89000a32be31</td>\n",
       "      <td>0.0</td>\n",
       "      <td>0.0</td>\n",
       "      <td>0</td>\n",
       "    </tr>\n",
       "    <tr>\n",
       "      <th>2</th>\n",
       "      <td>29.0</td>\n",
       "      <td>0.0</td>\n",
       "      <td>0.0</td>\n",
       "      <td>67b2d286-8932-40ca-836a-04deb6707f0b</td>\n",
       "      <td>0.0</td>\n",
       "      <td>0.0</td>\n",
       "      <td>0</td>\n",
       "    </tr>\n",
       "    <tr>\n",
       "      <th>3</th>\n",
       "      <td>49.0</td>\n",
       "      <td>0.0</td>\n",
       "      <td>2.0</td>\n",
       "      <td>faf7dd7a-af5b-47ad-a81e-81681dd7f57b</td>\n",
       "      <td>0.0</td>\n",
       "      <td>9.0</td>\n",
       "      <td>0</td>\n",
       "    </tr>\n",
       "    <tr>\n",
       "      <th>4</th>\n",
       "      <td>41.0</td>\n",
       "      <td>0.0</td>\n",
       "      <td>0.0</td>\n",
       "      <td>54988315-be0e-40a1-a89a-aa8c54cbc688</td>\n",
       "      <td>0.0</td>\n",
       "      <td>0.0</td>\n",
       "      <td>0</td>\n",
       "    </tr>\n",
       "  </tbody>\n",
       "</table>\n",
       "</div>"
      ],
      "text/plain": [
       "   CommandLine_length  Network_degree  Direct_children  \\\n",
       "0  59.0                0.0             5.0               \n",
       "1  55.0                0.0             0.0               \n",
       "2  29.0                0.0             0.0               \n",
       "3  49.0                0.0             2.0               \n",
       "4  41.0                0.0             0.0               \n",
       "\n",
       "                            ProcessGuid  Numbers_of_executed_commands  \\\n",
       "0  28f0b276-992e-4b7b-9b4f-82394971205f  0.0                            \n",
       "1  e931d104-d525-407f-8d9e-89000a32be31  0.0                            \n",
       "2  67b2d286-8932-40ca-836a-04deb6707f0b  0.0                            \n",
       "3  faf7dd7a-af5b-47ad-a81e-81681dd7f57b  0.0                            \n",
       "4  54988315-be0e-40a1-a89a-aa8c54cbc688  0.0                            \n",
       "\n",
       "   Numbers_of_files_created  Malicious  \n",
       "0  0.0                       0          \n",
       "1  0.0                       0          \n",
       "2  0.0                       0          \n",
       "3  9.0                       0          \n",
       "4  0.0                       0          "
      ]
     },
     "execution_count": 15,
     "metadata": {},
     "output_type": "execute_result"
    }
   ],
   "source": [
    "%%time\n",
    "#Get all the processes\n",
    "all_processes= gds.run_cypher(\"\"\"\n",
    "MATCH (p:Process)\n",
    "RETURN p.CommandLine_length as CommandLine_length,p.network_degree as Network_degree,p.direct_children as Direct_children,p.ProcessGuid as ProcessGuid,p.numbers_of_executed_commands as Numbers_of_executed_commands,p.numbers_of_files_created as Numbers_of_files_created,p.malicious as Malicious\n",
    "\"\"\") \n",
    "\n",
    "all_processes.head()"
   ]
  },
  {
   "cell_type": "code",
   "execution_count": 16,
   "id": "45534689-28fb-47dd-9e8b-fb4253d44974",
   "metadata": {},
   "outputs": [],
   "source": [
    "df=all_processes.fillna(0)"
   ]
  },
  {
   "cell_type": "code",
   "execution_count": 17,
   "id": "799546d1-2a2d-4f04-98e3-19ce9ac7236e",
   "metadata": {},
   "outputs": [],
   "source": [
    "#import libraries for running randomforest\n",
    "from sklearn.ensemble import RandomForestClassifier\n",
    "from sklearn import tree\n"
   ]
  },
  {
   "cell_type": "code",
   "execution_count": 154,
   "id": "6ef26fa9-f991-43fb-8a88-aaadae993e87",
   "metadata": {},
   "outputs": [],
   "source": [
    "#Get the variables into x and y for readability\n",
    "X=df[['CommandLine_length', 'Network_degree', 'Direct_children', 'Numbers_of_executed_commands', 'Numbers_of_files_created']]\n",
    "y=df['Malicious']"
   ]
  },
  {
   "cell_type": "code",
   "execution_count": 155,
   "id": "3efdd7cd-919f-4b9c-92af-e9ea0db71185",
   "metadata": {},
   "outputs": [
    {
     "name": "stdout",
     "output_type": "stream",
     "text": [
      "Counter({0: 1132007, 1: 13})\n"
     ]
    }
   ],
   "source": [
    "from collections import Counter\n",
    "# summarize class distribution\n",
    "counter = Counter(y)\n",
    "print(counter)"
   ]
  },
  {
   "cell_type": "code",
   "execution_count": 156,
   "id": "d15a8523-361b-453c-bdf5-7f17f0711352",
   "metadata": {},
   "outputs": [
    {
     "name": "stdout",
     "output_type": "stream",
     "text": [
      "CPU times: user 73.3 ms, sys: 3.87 ms, total: 77.2 ms\n",
      "Wall time: 75.3 ms\n"
     ]
    }
   ],
   "source": [
    "%%time\n",
    "# split the data into training and testing sets\n",
    "X_train, X_test, y_train, y_test = train_test_split(X, y, test_size=0.3, random_state=8)\n",
    "\n"
   ]
  },
  {
   "cell_type": "code",
   "execution_count": 157,
   "id": "1f0b7874-1f63-4b0f-b335-77eeff2d4a0d",
   "metadata": {},
   "outputs": [
    {
     "name": "stdout",
     "output_type": "stream",
     "text": [
      "CPU times: user 9.51 s, sys: 7 ms, total: 9.51 s\n",
      "Wall time: 9.57 s\n"
     ]
    },
    {
     "data": {
      "text/html": [
       "<style>#sk-container-id-26 {color: black;background-color: white;}#sk-container-id-26 pre{padding: 0;}#sk-container-id-26 div.sk-toggleable {background-color: white;}#sk-container-id-26 label.sk-toggleable__label {cursor: pointer;display: block;width: 100%;margin-bottom: 0;padding: 0.3em;box-sizing: border-box;text-align: center;}#sk-container-id-26 label.sk-toggleable__label-arrow:before {content: \"▸\";float: left;margin-right: 0.25em;color: #696969;}#sk-container-id-26 label.sk-toggleable__label-arrow:hover:before {color: black;}#sk-container-id-26 div.sk-estimator:hover label.sk-toggleable__label-arrow:before {color: black;}#sk-container-id-26 div.sk-toggleable__content {max-height: 0;max-width: 0;overflow: hidden;text-align: left;background-color: #f0f8ff;}#sk-container-id-26 div.sk-toggleable__content pre {margin: 0.2em;color: black;border-radius: 0.25em;background-color: #f0f8ff;}#sk-container-id-26 input.sk-toggleable__control:checked~div.sk-toggleable__content {max-height: 200px;max-width: 100%;overflow: auto;}#sk-container-id-26 input.sk-toggleable__control:checked~label.sk-toggleable__label-arrow:before {content: \"▾\";}#sk-container-id-26 div.sk-estimator input.sk-toggleable__control:checked~label.sk-toggleable__label {background-color: #d4ebff;}#sk-container-id-26 div.sk-label input.sk-toggleable__control:checked~label.sk-toggleable__label {background-color: #d4ebff;}#sk-container-id-26 input.sk-hidden--visually {border: 0;clip: rect(1px 1px 1px 1px);clip: rect(1px, 1px, 1px, 1px);height: 1px;margin: -1px;overflow: hidden;padding: 0;position: absolute;width: 1px;}#sk-container-id-26 div.sk-estimator {font-family: monospace;background-color: #f0f8ff;border: 1px dotted black;border-radius: 0.25em;box-sizing: border-box;margin-bottom: 0.5em;}#sk-container-id-26 div.sk-estimator:hover {background-color: #d4ebff;}#sk-container-id-26 div.sk-parallel-item::after {content: \"\";width: 100%;border-bottom: 1px solid gray;flex-grow: 1;}#sk-container-id-26 div.sk-label:hover label.sk-toggleable__label {background-color: #d4ebff;}#sk-container-id-26 div.sk-serial::before {content: \"\";position: absolute;border-left: 1px solid gray;box-sizing: border-box;top: 0;bottom: 0;left: 50%;z-index: 0;}#sk-container-id-26 div.sk-serial {display: flex;flex-direction: column;align-items: center;background-color: white;padding-right: 0.2em;padding-left: 0.2em;position: relative;}#sk-container-id-26 div.sk-item {position: relative;z-index: 1;}#sk-container-id-26 div.sk-parallel {display: flex;align-items: stretch;justify-content: center;background-color: white;position: relative;}#sk-container-id-26 div.sk-item::before, #sk-container-id-26 div.sk-parallel-item::before {content: \"\";position: absolute;border-left: 1px solid gray;box-sizing: border-box;top: 0;bottom: 0;left: 50%;z-index: -1;}#sk-container-id-26 div.sk-parallel-item {display: flex;flex-direction: column;z-index: 1;position: relative;background-color: white;}#sk-container-id-26 div.sk-parallel-item:first-child::after {align-self: flex-end;width: 50%;}#sk-container-id-26 div.sk-parallel-item:last-child::after {align-self: flex-start;width: 50%;}#sk-container-id-26 div.sk-parallel-item:only-child::after {width: 0;}#sk-container-id-26 div.sk-dashed-wrapped {border: 1px dashed gray;margin: 0 0.4em 0.5em 0.4em;box-sizing: border-box;padding-bottom: 0.4em;background-color: white;}#sk-container-id-26 div.sk-label label {font-family: monospace;font-weight: bold;display: inline-block;line-height: 1.2em;}#sk-container-id-26 div.sk-label-container {text-align: center;}#sk-container-id-26 div.sk-container {/* jupyter's `normalize.less` sets `[hidden] { display: none; }` but bootstrap.min.css set `[hidden] { display: none !important; }` so we also need the `!important` here to be able to override the default hidden behavior on the sphinx rendered scikit-learn.org. See: https://github.com/scikit-learn/scikit-learn/issues/21755 */display: inline-block !important;position: relative;}#sk-container-id-26 div.sk-text-repr-fallback {display: none;}</style><div id=\"sk-container-id-26\" class=\"sk-top-container\"><div class=\"sk-text-repr-fallback\"><pre>RandomForestClassifier(class_weight={0: 1, 1: 10}, max_depth=4, random_state=0)</pre><b>In a Jupyter environment, please rerun this cell to show the HTML representation or trust the notebook. <br />On GitHub, the HTML representation is unable to render, please try loading this page with nbviewer.org.</b></div><div class=\"sk-container\" hidden><div class=\"sk-item\"><div class=\"sk-estimator sk-toggleable\"><input class=\"sk-toggleable__control sk-hidden--visually\" id=\"sk-estimator-id-26\" type=\"checkbox\" checked><label for=\"sk-estimator-id-26\" class=\"sk-toggleable__label sk-toggleable__label-arrow\">RandomForestClassifier</label><div class=\"sk-toggleable__content\"><pre>RandomForestClassifier(class_weight={0: 1, 1: 10}, max_depth=4, random_state=0)</pre></div></div></div></div></div>"
      ],
      "text/plain": [
       "RandomForestClassifier(class_weight={0: 1, 1: 10}, max_depth=4, random_state=0)"
      ]
     },
     "execution_count": 157,
     "metadata": {},
     "output_type": "execute_result"
    }
   ],
   "source": [
    "%%time\n",
    "w = 10 # The weight for the positive class\n",
    "\n",
    "model=RandomForestClassifier(max_depth=4, random_state=0,class_weight={0: 1, 1: w})\n",
    "model.fit(X_train, y_train)\n",
    "\n",
    "\n"
   ]
  },
  {
   "cell_type": "code",
   "execution_count": 158,
   "id": "a1c65c57-f69e-469a-bcc2-0d156afb987c",
   "metadata": {},
   "outputs": [
    {
     "name": "stdout",
     "output_type": "stream",
     "text": [
      "CPU times: user 974 ms, sys: 1 ms, total: 975 ms\n",
      "Wall time: 980 ms\n"
     ]
    }
   ],
   "source": [
    "%%time\n",
    "y_pred = model.predict(X_test)"
   ]
  },
  {
   "cell_type": "code",
   "execution_count": 159,
   "id": "cde49a13-b1e1-42ee-9028-6d9805149c29",
   "metadata": {},
   "outputs": [
    {
     "name": "stdout",
     "output_type": "stream",
     "text": [
      "Accuracy:  0.9999970554112707\n",
      "Precision:  1.0\n",
      "Recall:  0.8\n",
      "f1score:  0.888888888888889\n",
      "CPU times: user 132 ms, sys: 980 µs, total: 133 ms\n",
      "Wall time: 133 ms\n"
     ]
    }
   ],
   "source": [
    "%%time\n",
    "# evaluate the performance of the model\n",
    "accuracy = accuracy_score(y_test, y_pred)\n",
    "precision = precision_score(y_test, y_pred)\n",
    "recall = recall_score(y_test, y_pred)\n",
    "f1score = 2*(precision * recall)/(precision + recall)\n",
    "\n",
    "print(\"Accuracy: \", accuracy)\n",
    "print(\"Precision: \", precision)\n",
    "print(\"Recall: \", recall)\n",
    "print(\"f1score: \", f1score)"
   ]
  },
  {
   "cell_type": "code",
   "execution_count": 167,
   "id": "a54e6988-a442-4414-a983-8478d788ff9c",
   "metadata": {},
   "outputs": [
    {
     "data": {
      "text/plain": [
       "'parent_child_malware_tree.pdf'"
      ]
     },
     "execution_count": 167,
     "metadata": {},
     "output_type": "execute_result"
    }
   ],
   "source": [
    "import graphviz\n",
    "\n",
    "from sklearn.tree import export_graphviz\n",
    "\n",
    "fn=['CommandLine_length', 'Network_degree', 'Direct_children', 'Numbers_of_executed_commands', 'Numbers_of_files_created']\n",
    "cn=['malign', 'malicious']\n",
    "\n",
    "dot_data = export_graphviz(model.estimators_[0], out_file=None, \n",
    "                           feature_names=fn, \n",
    "                           class_names=cn, \n",
    "                           filled=True, rounded=True, special_characters=True)\n",
    "graph = graphviz.Source(dot_data)\n",
    "graph.render('parent_child_malware_tree')"
   ]
  },
  {
   "cell_type": "code",
   "execution_count": 168,
   "id": "b4439327-d4ed-41c1-89d0-5b5b5b2ebe07",
   "metadata": {},
   "outputs": [],
   "source": [
    "#clf.plot_tree(model, num_trees=model.best_iteration)"
   ]
  },
  {
   "cell_type": "code",
   "execution_count": 169,
   "id": "e225951c-d4fe-492c-b61e-c94f9891ace6",
   "metadata": {},
   "outputs": [],
   "source": [
    "#########try the same using smote "
   ]
  },
  {
   "cell_type": "code",
   "execution_count": 179,
   "id": "fc959992-30cb-4dc7-8448-6db876f0f00d",
   "metadata": {},
   "outputs": [],
   "source": [
    "#Get the variables into x and y for readability\n",
    "X=df[['CommandLine_length', 'Network_degree', 'Direct_children', 'Numbers_of_executed_commands', 'Numbers_of_files_created']]\n",
    "y=df['Malicious']"
   ]
  },
  {
   "cell_type": "code",
   "execution_count": 180,
   "id": "c8cbf92d-28af-4d35-8198-693d13a874f5",
   "metadata": {},
   "outputs": [
    {
     "name": "stdout",
     "output_type": "stream",
     "text": [
      "CPU times: user 81.3 ms, sys: 3 ms, total: 84.3 ms\n",
      "Wall time: 84.5 ms\n"
     ]
    }
   ],
   "source": [
    "%%time\n",
    "# split the data into training and testing sets\n",
    "X_train, X_test, y_train, y_test = train_test_split(X, y, test_size=0.3, random_state=8)\n"
   ]
  },
  {
   "cell_type": "code",
   "execution_count": 181,
   "id": "7d0a5b19-6994-48f3-b0f8-b000f474ba54",
   "metadata": {},
   "outputs": [],
   "source": [
    "#BorderlineSMOTE\n",
    "#since we have very few malicious events\n",
    "smote_border = BorderlineSMOTE(random_state = 42,k_neighbors=3)\n",
    "X_train_smote, y_train_smote = smote_border.fit_resample(X_train, y_train)"
   ]
  },
  {
   "cell_type": "code",
   "execution_count": 182,
   "id": "1a451274-14e2-498b-b558-bf4a96ea9842",
   "metadata": {},
   "outputs": [
    {
     "name": "stdout",
     "output_type": "stream",
     "text": [
      "Counter({0: 792406, 1: 792406})\n"
     ]
    }
   ],
   "source": [
    "counter = Counter(y_train_smote)\n",
    "print(counter)"
   ]
  },
  {
   "cell_type": "code",
   "execution_count": 183,
   "id": "bc4233b2-892a-4a6e-bbcb-d9f9a3867eb9",
   "metadata": {},
   "outputs": [
    {
     "data": {
      "text/html": [
       "<style>#sk-container-id-29 {color: black;background-color: white;}#sk-container-id-29 pre{padding: 0;}#sk-container-id-29 div.sk-toggleable {background-color: white;}#sk-container-id-29 label.sk-toggleable__label {cursor: pointer;display: block;width: 100%;margin-bottom: 0;padding: 0.3em;box-sizing: border-box;text-align: center;}#sk-container-id-29 label.sk-toggleable__label-arrow:before {content: \"▸\";float: left;margin-right: 0.25em;color: #696969;}#sk-container-id-29 label.sk-toggleable__label-arrow:hover:before {color: black;}#sk-container-id-29 div.sk-estimator:hover label.sk-toggleable__label-arrow:before {color: black;}#sk-container-id-29 div.sk-toggleable__content {max-height: 0;max-width: 0;overflow: hidden;text-align: left;background-color: #f0f8ff;}#sk-container-id-29 div.sk-toggleable__content pre {margin: 0.2em;color: black;border-radius: 0.25em;background-color: #f0f8ff;}#sk-container-id-29 input.sk-toggleable__control:checked~div.sk-toggleable__content {max-height: 200px;max-width: 100%;overflow: auto;}#sk-container-id-29 input.sk-toggleable__control:checked~label.sk-toggleable__label-arrow:before {content: \"▾\";}#sk-container-id-29 div.sk-estimator input.sk-toggleable__control:checked~label.sk-toggleable__label {background-color: #d4ebff;}#sk-container-id-29 div.sk-label input.sk-toggleable__control:checked~label.sk-toggleable__label {background-color: #d4ebff;}#sk-container-id-29 input.sk-hidden--visually {border: 0;clip: rect(1px 1px 1px 1px);clip: rect(1px, 1px, 1px, 1px);height: 1px;margin: -1px;overflow: hidden;padding: 0;position: absolute;width: 1px;}#sk-container-id-29 div.sk-estimator {font-family: monospace;background-color: #f0f8ff;border: 1px dotted black;border-radius: 0.25em;box-sizing: border-box;margin-bottom: 0.5em;}#sk-container-id-29 div.sk-estimator:hover {background-color: #d4ebff;}#sk-container-id-29 div.sk-parallel-item::after {content: \"\";width: 100%;border-bottom: 1px solid gray;flex-grow: 1;}#sk-container-id-29 div.sk-label:hover label.sk-toggleable__label {background-color: #d4ebff;}#sk-container-id-29 div.sk-serial::before {content: \"\";position: absolute;border-left: 1px solid gray;box-sizing: border-box;top: 0;bottom: 0;left: 50%;z-index: 0;}#sk-container-id-29 div.sk-serial {display: flex;flex-direction: column;align-items: center;background-color: white;padding-right: 0.2em;padding-left: 0.2em;position: relative;}#sk-container-id-29 div.sk-item {position: relative;z-index: 1;}#sk-container-id-29 div.sk-parallel {display: flex;align-items: stretch;justify-content: center;background-color: white;position: relative;}#sk-container-id-29 div.sk-item::before, #sk-container-id-29 div.sk-parallel-item::before {content: \"\";position: absolute;border-left: 1px solid gray;box-sizing: border-box;top: 0;bottom: 0;left: 50%;z-index: -1;}#sk-container-id-29 div.sk-parallel-item {display: flex;flex-direction: column;z-index: 1;position: relative;background-color: white;}#sk-container-id-29 div.sk-parallel-item:first-child::after {align-self: flex-end;width: 50%;}#sk-container-id-29 div.sk-parallel-item:last-child::after {align-self: flex-start;width: 50%;}#sk-container-id-29 div.sk-parallel-item:only-child::after {width: 0;}#sk-container-id-29 div.sk-dashed-wrapped {border: 1px dashed gray;margin: 0 0.4em 0.5em 0.4em;box-sizing: border-box;padding-bottom: 0.4em;background-color: white;}#sk-container-id-29 div.sk-label label {font-family: monospace;font-weight: bold;display: inline-block;line-height: 1.2em;}#sk-container-id-29 div.sk-label-container {text-align: center;}#sk-container-id-29 div.sk-container {/* jupyter's `normalize.less` sets `[hidden] { display: none; }` but bootstrap.min.css set `[hidden] { display: none !important; }` so we also need the `!important` here to be able to override the default hidden behavior on the sphinx rendered scikit-learn.org. See: https://github.com/scikit-learn/scikit-learn/issues/21755 */display: inline-block !important;position: relative;}#sk-container-id-29 div.sk-text-repr-fallback {display: none;}</style><div id=\"sk-container-id-29\" class=\"sk-top-container\"><div class=\"sk-text-repr-fallback\"><pre>RandomForestClassifier(class_weight={0: 1, 1: 1}, max_depth=4, random_state=2)</pre><b>In a Jupyter environment, please rerun this cell to show the HTML representation or trust the notebook. <br />On GitHub, the HTML representation is unable to render, please try loading this page with nbviewer.org.</b></div><div class=\"sk-container\" hidden><div class=\"sk-item\"><div class=\"sk-estimator sk-toggleable\"><input class=\"sk-toggleable__control sk-hidden--visually\" id=\"sk-estimator-id-29\" type=\"checkbox\" checked><label for=\"sk-estimator-id-29\" class=\"sk-toggleable__label sk-toggleable__label-arrow\">RandomForestClassifier</label><div class=\"sk-toggleable__content\"><pre>RandomForestClassifier(class_weight={0: 1, 1: 1}, max_depth=4, random_state=2)</pre></div></div></div></div></div>"
      ],
      "text/plain": [
       "RandomForestClassifier(class_weight={0: 1, 1: 1}, max_depth=4, random_state=2)"
      ]
     },
     "execution_count": 183,
     "metadata": {},
     "output_type": "execute_result"
    }
   ],
   "source": [
    "\n",
    "w = 1 # The weight for the positive class\n",
    "\n",
    "model=RandomForestClassifier(max_depth=4, random_state=2,class_weight={0:1, 1: w})\n",
    "model.fit(X_train_smote, y_train_smote)\n"
   ]
  },
  {
   "cell_type": "code",
   "execution_count": 184,
   "id": "5c4c8492-8f2e-4248-a880-fde61031dafe",
   "metadata": {},
   "outputs": [],
   "source": [
    "y_pred = model.predict(X_test)"
   ]
  },
  {
   "cell_type": "code",
   "execution_count": 185,
   "id": "5d3a7824-5348-4ede-b90c-4745cd66881c",
   "metadata": {},
   "outputs": [
    {
     "name": "stdout",
     "output_type": "stream",
     "text": [
      "Accuracy:  1.0\n",
      "Precision:  1.0\n",
      "Recall:  1.0\n",
      "f1score:  1.0\n"
     ]
    }
   ],
   "source": [
    "# evaluate the performance of the model\n",
    "accuracy = accuracy_score(y_test, y_pred)\n",
    "precision = precision_score(y_test, y_pred)\n",
    "recall = recall_score(y_test, y_pred)\n",
    "f1score = 2*(precision * recall)/(precision + recall)\n",
    "\n",
    "print(\"Accuracy: \", accuracy)\n",
    "print(\"Precision: \", precision)\n",
    "print(\"Recall: \", recall)\n",
    "print(\"f1score: \", f1score)"
   ]
  },
  {
   "cell_type": "code",
   "execution_count": 177,
   "id": "d92507a0-6b3d-42cd-bdda-b1219e13cc58",
   "metadata": {},
   "outputs": [],
   "source": [
    "#import visualization libraries\n",
    "import numpy as np\n",
    "import seaborn as sns\n",
    "import matplotlib.pyplot as plt"
   ]
  },
  {
   "cell_type": "code",
   "execution_count": 178,
   "id": "349973da-e0bd-4b65-b8f1-dd02adab1706",
   "metadata": {},
   "outputs": [
    {
     "data": {
      "text/plain": [
       "'smote_parent_child_malware_tree.pdf'"
      ]
     },
     "execution_count": 178,
     "metadata": {},
     "output_type": "execute_result"
    }
   ],
   "source": [
    "import graphviz\n",
    "\n",
    "from sklearn.tree import export_graphviz\n",
    "\n",
    "fn=['CommandLine_length', 'Network_degree', 'Direct_children', 'Numbers_of_executed_commands', 'Numbers_of_files_created']\n",
    "cn=['malign', 'malicious']\n",
    "\n",
    "dot_data = export_graphviz(model.estimators_[0], out_file=None, \n",
    "                           feature_names=fn, \n",
    "                           class_names=cn, \n",
    "                           filled=True, rounded=True, special_characters=True)\n",
    "graph = graphviz.Source(dot_data)\n",
    "graph.render('smote_parent_child_malware_tree')"
   ]
  },
  {
   "cell_type": "code",
   "execution_count": null,
   "id": "efb9aff3-4d85-4064-82c6-0cf9c8a9c9c6",
   "metadata": {},
   "outputs": [],
   "source": []
  }
 ],
 "metadata": {
  "kernelspec": {
   "display_name": "Python 3 (ipykernel)",
   "language": "python",
   "name": "python3"
  },
  "language_info": {
   "codemirror_mode": {
    "name": "ipython",
    "version": 3
   },
   "file_extension": ".py",
   "mimetype": "text/x-python",
   "name": "python",
   "nbconvert_exporter": "python",
   "pygments_lexer": "ipython3",
   "version": "3.10.6"
  }
 },
 "nbformat": 4,
 "nbformat_minor": 5
}
